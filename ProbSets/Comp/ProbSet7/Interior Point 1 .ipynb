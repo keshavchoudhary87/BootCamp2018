{
 "cells": [
  {
   "cell_type": "code",
   "execution_count": 7,
   "metadata": {},
   "outputs": [],
   "source": [
    "import numpy as np\n",
    "from itertools import chain\n",
    "from scipy import sparse\n",
    "import scipy\n"
   ]
  },
  {
   "cell_type": "markdown",
   "metadata": {},
   "source": [
    "Problem 1,2"
   ]
  },
  {
   "cell_type": "code",
   "execution_count": 8,
   "metadata": {},
   "outputs": [],
   "source": [
    "# def interiorPoint(x, lamda, mu, A,b,c, niter=20, tol=1e-16):\n",
    "      \n",
    "\n",
    "\n",
    "        \n",
    "#Problem 1\n",
    "def F(x, lamda, mu, A,b,c):\n",
    "    M = np.diag(mu)\n",
    "    F = []\n",
    "    F0 = A.T@lamda + mu -c\n",
    "    F.append(F0)\n",
    "    F1 = A@x - b\n",
    "    F.append(F1)\n",
    "    F2 = M@x \n",
    "    F.append(F2)\n",
    "    F = list(chain(*F))\n",
    "    F = np.array(F)\n",
    "    return F\n",
    "\n",
    "#Problem 2\n",
    "def lineqn(x, lamda, mu, A,b,c, niter=20, tol=1e-16):\n",
    "    sA = sparse.csr_matrix(A)\n",
    "    sAT = sparse.csr_matrix(A.T)\n",
    "    M = np.diag(mu)\n",
    "    sM = sparse.csr_matrix(M)\n",
    "    X = np.diag(x)\n",
    "    sX = sparse.csr_matrix(X)\n",
    "    I = np.identity(len(x))\n",
    "    sI = sparse.csr_matrix(I)\n",
    "    DF = sparse.bmat([[None, sAT, sI], [sA, None, None], [sM, None, sX]], format='bsr')\n",
    "    DF = DF.toarray()\n",
    "    F_1 = F(x, lamda, mu, A,b,c)\n",
    "    nu = (np.inner(x, mu))/(len(x))\n",
    "    e = np.ones(len(x))\n",
    "    sigmanue = (1/10)*nu*e\n",
    "    xzeros = np.zeros(len(x))\n",
    "    mzeros = np.zeros(len(mu))\n",
    "    rhs = np.array([xzeros, mzeros, sigmanue]) - F_1\n",
    "    lu  = scipy.linalg.lu_factor(DF)[0]\n",
    "    plv = scipy.linalg.lu_factor(DF)[1]\n",
    "    solve = scipy.linalg.lu_solve((lu,plv), rhs)\n",
    "    delta_x = solve[0,n]\n",
    "    delta_y = solve[n, m]\n",
    "    delta_mu = solve[m:]\n",
    "    return solve, delta_x, delta_y, delta_mu\n",
    " \n",
    "# #Problem 3\n",
    "# def steplength(x, lamda, mu, A,b,c, niter=20, tol=1e-16):\n",
    "#     solve, delta_x, delta_y, delta_mu = lineqn(x, lamda, mu, A,b,c, niter=20, tol=1e-16)\n",
    "    \n",
    "    \n",
    "     \n",
    "def randomlp(m,n):  \n",
    "    A = np.random.random((m,n))*20 - 10\n",
    "    A[A[:,-1]<0] *= -1\n",
    "    x = np.random.random(n)*10\n",
    "    b = np.zeros(m)\n",
    "    b[:n] = A[:n,:] @ x\n",
    "    b[n:] = A[n:,:] @ x + np.random.random(m-n)*10\n",
    "    c = np.zeros(n+m)\n",
    "    c[:n] = A[:n,:].sum(axis=0)/n\n",
    "    A = np.hstack((A, np.eye(m)))\n",
    "    return A, b, -c, x\n",
    "\n",
    "\n",
    "m,n = 7,5\n",
    "A,b,c,x = randomlp(m,n)\n",
    "\n"
   ]
  },
  {
   "cell_type": "code",
   "execution_count": null,
   "metadata": {},
   "outputs": [],
   "source": []
  },
  {
   "cell_type": "code",
   "execution_count": null,
   "metadata": {},
   "outputs": [],
   "source": []
  }
 ],
 "metadata": {
  "kernelspec": {
   "display_name": "Python 3",
   "language": "python",
   "name": "python3"
  },
  "language_info": {
   "codemirror_mode": {
    "name": "ipython",
    "version": 3
   },
   "file_extension": ".py",
   "mimetype": "text/x-python",
   "name": "python",
   "nbconvert_exporter": "python",
   "pygments_lexer": "ipython3",
   "version": "3.6.5"
  }
 },
 "nbformat": 4,
 "nbformat_minor": 2
}
