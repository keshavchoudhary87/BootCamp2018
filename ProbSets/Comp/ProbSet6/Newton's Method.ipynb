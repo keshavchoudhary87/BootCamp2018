{
 "cells": [
  {
   "cell_type": "code",
   "execution_count": 2,
   "metadata": {},
   "outputs": [],
   "source": [
    "import numpy as np\n",
    "import sympy as sy\n",
    "from sympy import *\n",
    "import pandas as pd\n",
    "from matplotlib import pyplot as plt\n",
    "import scipy.stats as sts\n",
    "import scipy. integrate as intr\n",
    "import seaborn\n",
    "from autograd import numpy as anp\n",
    "from autograd import grad\n",
    "from autograd import elementwise_grad\n",
    "import time\n",
    "from IPython.core.interactiveshell import InteractiveShell\n",
    "InteractiveShell.ast_node_interactivity = \"all\"\n",
    "from pprint import pprint\n",
    "max_line_width=np.inf\n",
    "from scipy import linalg "
   ]
  },
  {
   "cell_type": "markdown",
   "metadata": {},
   "source": [
    "Problem 1"
   ]
  },
  {
   "cell_type": "code",
   "execution_count": 3,
   "metadata": {},
   "outputs": [
    {
     "data": {
      "text/plain": [
       "(1.3160740129525732, True, 7)"
      ]
     },
     "execution_count": 3,
     "metadata": {},
     "output_type": "execute_result"
    },
    {
     "data": {
      "text/plain": [
       "(0.6931471805599454, True, 7)"
      ]
     },
     "execution_count": 3,
     "metadata": {},
     "output_type": "execute_result"
    }
   ],
   "source": [
    "def simple_newton1(f,x_0,df,maxiter =15,tol =1e-5):\n",
    "    iter_1 =0\n",
    "    error =10\n",
    "    while error >tol and iter_1<maxiter:\n",
    "        x_1 = x_0 - f(x_0)/df(x_0)\n",
    "        error = np.abs(x_1-x_0)\n",
    "        x_0 = x_1\n",
    "        iter_1 += 1\n",
    "    return x_1,error<= tol,iter_1\n",
    "\n",
    "g1  = lambda x: x**4-3\n",
    "dg1 =  lambda x: 4*x**3\n",
    "\n",
    "g2  = lambda x: np.exp(x)-2\n",
    "dg2 =  lambda x: np.exp(x)\n",
    "\n",
    "simple_newton1(g1,3,dg1,20,1e-6)\n",
    "simple_newton1(g2,3,dg2,20,1e-6)"
   ]
  },
  {
   "cell_type": "markdown",
   "metadata": {},
   "source": [
    "Problem 2"
   ]
  },
  {
   "cell_type": "code",
   "execution_count": 4,
   "metadata": {},
   "outputs": [
    {
     "data": {
      "text/plain": [
       "0.03877843202968209"
      ]
     },
     "execution_count": 4,
     "metadata": {},
     "output_type": "execute_result"
    }
   ],
   "source": [
    "def solve_bank(N1,N2,P1,P2):\n",
    "    maxiter =100\n",
    "    tol = 1e-7\n",
    "    iter_1 =0\n",
    "    error =10\n",
    "    r_0 = 0.1\n",
    "    while error >tol and iter_1<maxiter:\n",
    "        r_1 = r_0 - g(N1,N2,P1,P2,r_0)/dg(N1,N2,P1,P2,r_0,1e-6)\n",
    "        error = np.abs(r_1-r_0)\n",
    "        r_0 = r_1\n",
    "        iter_1 += 1\n",
    "    return r_1\n",
    "\n",
    "g  = lambda n1,n2,p1,p2,r: p1*((1+r)**n1-1)-p2*(1-(1+r)**-n2)\n",
    "dg = lambda n1,n2,p1,p2,r,h:(g(n1,n2,p1,p2,r+h)-g(n1,n2,p1,p2,r))/h\n",
    "\n",
    "solve_bank(30,20,2000,8000)"
   ]
  },
  {
   "cell_type": "markdown",
   "metadata": {},
   "source": [
    "Problem 3"
   ]
  },
  {
   "cell_type": "code",
   "execution_count": 5,
   "metadata": {},
   "outputs": [
    {
     "data": {
      "text/plain": [
       "array([10485.76,     0.  ,    20.  ])"
      ]
     },
     "execution_count": 5,
     "metadata": {},
     "output_type": "execute_result"
    },
    {
     "data": {
      "text/plain": [
       "array([6.4e-07, 1.0e+00, 6.0e+00])"
      ]
     },
     "execution_count": 5,
     "metadata": {},
     "output_type": "execute_result"
    }
   ],
   "source": [
    "def simple_newton2(f,x_0,df,maxiter,tol,α):\n",
    "    iter_1 =0\n",
    "    error =10\n",
    "    while error >tol and iter_1<maxiter:\n",
    "        x_1 = x_0 - α*f(x_0)/df(x_0)\n",
    "        error = np.abs(x_1-x_0)\n",
    "        x_0 = x_1\n",
    "        iter_1 += 1\n",
    "    return np.array([x_1,error<= tol,iter_1])\n",
    "\n",
    "f = lambda x: np.sign(x) * np.power(np.abs(x), 1./3)\n",
    "df = lambda x: 1./3 * np.power(np.abs(x), -2/3)\n",
    "\n",
    "simple_newton2(f,.01,df,20,1e-5,1.0)\n",
    "simple_newton2(f,.01,df,20,1e-5,0.4)  "
   ]
  },
  {
   "cell_type": "markdown",
   "metadata": {},
   "source": [
    "Problem 4"
   ]
  },
  {
   "cell_type": "code",
   "execution_count": 6,
   "metadata": {},
   "outputs": [
    {
     "data": {
      "image/png": "[encoded data removed]",
      "text/plain": [
       "<Figure size 432x288 with 1 Axes>"
      ]
     },
     "metadata": {},
     "output_type": "display_data"
    }
   ],
   "source": [
    "def opt_alpha(f,x_0,df,maxiter,tol):\n",
    "    α = np.linspace(1e-5,1.000001,1000)\n",
    "    iter_stop = np.zeros(len(α))\n",
    "    for i in range(len(α)):\n",
    "        iter_stop[i] = simple_newton2(f,x_0,df,maxiter,tol,α[i])[2]\n",
    "    plt.plot(α,iter_stop,'m.', alpha =0.5)\n",
    "    \n",
    "opt_alpha(f,.01,df,1000,1e-20)"
   ]
  },
  {
   "cell_type": "markdown",
   "metadata": {},
   "source": [
    "Problem 5"
   ]
  },
  {
   "cell_type": "code",
   "execution_count": 7,
   "metadata": {},
   "outputs": [
    {
     "data": {
      "text/plain": [
       "array([[ 4.00000004, 12.00000001],\n",
       "       [ 3.00000001, 32.00000008]])"
      ]
     },
     "execution_count": 7,
     "metadata": {},
     "output_type": "execute_result"
    },
    {
     "data": {
      "text/plain": [
       "(array([1.31607315]), True, 17)"
      ]
     },
     "execution_count": 7,
     "metadata": {},
     "output_type": "execute_result"
    }
   ],
   "source": [
    "g1  = lambda x: np.array([x[0]**4 +x[1]**3 -3,x[0]**3 +x[1]**4 -3])\n",
    "g2 = lambda x: np.sign(x) * np.power(np.abs(x), 1./3)\n",
    "g3  = lambda x: x**4-3\n",
    "# dg1 = lambda x: 1./3 * np.power(np.abs(x), -2/3)\n",
    "\n",
    "\n",
    "\n",
    "def jacobian(func,x_vec):\n",
    "    h = .0001\n",
    "    m =  func(x_vec).shape[0]\n",
    "    n= len(x_vec)\n",
    "    basis =  np.eye(n)\n",
    "    jac = np.zeros((m,n))\n",
    "    for j in range(n):\n",
    "        jac[:,j] = (2*h)**-1*(func(x_vec+ h*basis[:,j])-func(x_vec- h*basis[:,j]))\n",
    "    return jac\n",
    "\n",
    "jacobian(g1,np.array([1,2]))\n",
    "\n",
    "def simple_newton4(f,x_vec,maxiter,tol,α):\n",
    "    iter_1 =0\n",
    "    error =10\n",
    "    if np.isscalar(f):\n",
    "        return simple_newton2(f,x_vec,jacobian(f,x_vec),maxiter,tol,α)\n",
    "    else:\n",
    "        while error >tol and iter_1<maxiter:\n",
    "            x_1 = x_vec - α*linalg.solve(jacobian(f,x_vec), f(x_vec))\n",
    "            error = linalg.norm(x_1-x_vec,2)\n",
    "            x_vec = x_1\n",
    "            iter_1 += 1\n",
    "    return x_1,error<= tol,iter_1\n",
    "\n",
    "simple_newton4(g3,np.array([1]),200,1e-6,.5)"
   ]
  },
  {
   "cell_type": "markdown",
   "metadata": {},
   "source": [
    "Problem 6"
   ]
  },
  {
   "cell_type": "code",
   "execution_count": 8,
   "metadata": {},
   "outputs": [
    {
     "name": "stdout",
     "output_type": "stream",
     "text": [
      "None\n"
     ]
    }
   ],
   "source": [
    "f = lambda x: anp.array([5*x[0]*x[1] - x[0]*(1 + x[1]), -x[0]*x[1] + (1 - x[1])*(1 + x[1])])\n",
    "Df = jacobian(f,np.array([1,1]))\n",
    "\n",
    "def find_init(f, Df, niter=100):\n",
    "    # Create search domain\n",
    "    x_domain = np.linspace(-0.25, 0, 100)\n",
    "    y_domain = np.linspace(0, 0.25, 100)\n",
    "    X, Y = np.meshgrid(x_domain, y_domain)\n",
    "    xy_domain = zip(X.ravel(), Y.ravel())\n",
    "    \n",
    "    # See where each point in the domain converges\n",
    "    for coord in xy_domain:\n",
    "        try:\n",
    "            min1 = simple_newton4(anp.array(coord), f, Df, alpha=1, maxiter=niter)\n",
    "            min2 = simple_newton4(anp.array(coord), f, Df, alpha=0.55, maxiter=niter)\n",
    "            if (np.allclose(min1, anp.array((0, 1))) or np.allclose(min1, anp.array((0, -1)))) and np.allclose(min2, anp.array((3.75, 0.25))):\n",
    "                return coord\n",
    "        except:\n",
    "            pass\n",
    "\n",
    "print(find_init(f, Df))"
   ]
  },
  {
   "cell_type": "markdown",
   "metadata": {},
   "source": [
    "Problem 7"
   ]
  },
  {
   "cell_type": "code",
   "execution_count": 9,
   "metadata": {},
   "outputs": [
    {
     "data": {
      "image/png": "[encoded data removed]",
      "text/plain": [
       "<Figure size 432x288 with 1 Axes>"
      ]
     },
     "metadata": {},
     "output_type": "display_data"
    }
   ],
   "source": [
    "def simple_newton1(f,x_0,df,maxiter =15,tol =1e-5):\n",
    "    iter_1 =0\n",
    "    error =10\n",
    "    while error >tol and iter_1<maxiter:\n",
    "        x_1 = x_0 - f(x_0)/df(x_0)\n",
    "        error = linalg.norm(x_1-x_0,2)\n",
    "        x_0 = x_1\n",
    "        iter_1 += 1\n",
    "    return x_1,error<= tol,iter_1\n",
    "\n",
    "g1  = lambda x: x**3-1\n",
    "dg1 =  lambda x: 3*x**2 ## 6.5.7\n",
    "g2  = lambda x: x**3-x\n",
    "dg2 =  lambda x: 3*x**2 -1 ## 6.5.7\n",
    "zeros1 = np.array([1 + 1j*0., -0.5+ 1j*np.sqrt(3),-0.5- 1j*np.sqrt(3)])\n",
    "zeros2 = np.array([0 + 1j*0., -1+ 1j*0.,1+1j*0.])\n",
    "\n",
    "\n",
    "def plot_newton_frac(F,Df,zeros,bounds,res,iters):\n",
    "    rmin,rmax,imin,imax = bounds[0],bounds[1],bounds[2],bounds[3]\n",
    "    x = np.linspace(rmin,rmax,res)\n",
    "    y = np.linspace(imin,imax,res)\n",
    "    z_real,z_im = np.meshgrid(x,y)\n",
    "    z_0 = z_real + 1j*z_im\n",
    "    for i in range(iters):\n",
    "        z_k =  z_0 - F(z_0)/Df(z_0)\n",
    "        z_0 = z_k\n",
    "    Y = np.zeros((res,res))\n",
    "    for i in range(res):\n",
    "        for j in range(res):\n",
    "            Y[i,j] = np.argmin(np.abs(zeros - z_0[i, j]))\n",
    "    plt.pcolormesh(z_real, z_im, Y, cmap='brg')\n",
    "    plt.show()\n",
    "    return\n",
    "\n",
    "\n",
    "plot_newton_frac(g1,dg1,zeros1,np.array([-1.5,1.5,-1.5,1.5]),500,500)"
   ]
  },
  {
   "cell_type": "code",
   "execution_count": null,
   "metadata": {},
   "outputs": [],
   "source": []
  }
 ],
 "metadata": {
  "kernelspec": {
   "display_name": "Python 3",
   "language": "python",
   "name": "python3"
  },
  "language_info": {
   "codemirror_mode": {
    "name": "ipython",
    "version": 3
   },
   "file_extension": ".py",
   "mimetype": "text/x-python",
   "name": "python",
   "nbconvert_exporter": "python",
   "pygments_lexer": "ipython3",
   "version": "3.6.5"
  }
 },
 "nbformat": 4,
 "nbformat_minor": 2
}
