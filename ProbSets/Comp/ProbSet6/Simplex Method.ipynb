{
 "cells": [
  {
   "cell_type": "code",
   "execution_count": 3,
   "metadata": {},
   "outputs": [],
   "source": [
    "import numpy as np\n",
    "import sympy as sy\n",
    "from sympy import *\n",
    "import pandas as pd\n",
    "from matplotlib import pyplot as plt\n",
    "import scipy.stats as sts\n",
    "import scipy. integrate as intr\n",
    "import seaborn\n",
    "from autograd import numpy as anp\n",
    "from autograd import grad\n",
    "from autograd import elementwise_grad\n",
    "import time\n",
    "from IPython.core.interactiveshell import InteractiveShell\n",
    "InteractiveShell.ast_node_interactivity = \"all\"\n",
    "from pprint import pprint\n",
    "max_line_width=np.inf\n",
    "from scipy import linalg "
   ]
  },
  {
   "cell_type": "code",
   "execution_count": 4,
   "metadata": {},
   "outputs": [],
   "source": [
    "class simplex_algo:\n",
    "    def __init__(self, c, A, b):\n",
    "        self.c = c\n",
    "        self.A = A\n",
    "        self.b = b\n",
    "        self.n = len(c)\n",
    "        if np.any(self.A@np.zeros((self.n, 1))>self.b):\n",
    "            raise ValueError('Not feasible')\n",
    "    \n",
    "        self.m,self.n = self.A.shape\n",
    "        ind =  np.concatenate((np.arange(self.n,self.n+self.m),np.arange(self.n)))\n",
    "        self.index =  ind\n",
    "        self.T = self.x_tableau()\n",
    "        self.basic = self.index[:self.m]\n",
    "        self.nonbasic = self.index[self.m:]\n",
    "        \n",
    "    def x_tableau(self):\n",
    "        A_bar = np.hstack((self.A,np.identity(self.m)))\n",
    "        c_bar =  -1*np.hstack((self.c,np.zeros(self.m)))\n",
    "        T_1 =  np.hstack((np.zeros(1),c_bar,np.ones(1)))\n",
    "        T_2 = np.column_stack((self.b,A_bar,np.zeros((self.m,1))))\n",
    "        T = np.vstack((T_1,T_2))\n",
    "        return T\n",
    "    \n",
    "    def pivot(self):\n",
    "        x =  self.T[0,:]\n",
    "        col = np.argmin(np.where(x<0))+1\n",
    "        if np.all(self.T[1:,col])<0:\n",
    "            raise ValueError('Problem is unbounded')\n",
    "        row = np.argmin(self.T[1:,0]/self.T[1:,col])+1\n",
    "        return row,col\n",
    "    \n",
    "    def pivot_oper(self):\n",
    "        row,col = self.pivot()\n",
    "        ind = self.index\n",
    "        ind[row-1],ind[self.m+col-1]=ind[self.m+col-1], ind[row-1]\n",
    "        self.index =  ind\n",
    "        self.T[row,:] = self.T[row,:]/self.T[row,col]\n",
    "        dim1, dim2  = self.T.shape\n",
    "        for h in range(dim1):\n",
    "            if h != row:\n",
    "                self.T[h,:]=self.T[h,:]-self.T[h,col]*self.T[row,:]\n",
    "    \n",
    "    def solve_simplex(self):\n",
    "        maxiter = 1000\n",
    "        iterx = 0\n",
    "        while np.any(self.T[0,:] < 0) and  iterx<maxiter:\n",
    "            self.pivot_oper()\n",
    "            iterx += 1\n",
    "        return self.T\n",
    "#         basic_dict = {self.basic[i]: round(self.T[i+1, 0], 2) for i in range(self.m)}\n",
    "#         nonbasic_dict = {self.nonbasic[i]: 0 for i in range(self.n)}\n",
    "#         return self.T[0, 0], basic_dict, nonbasic_dict"
   ]
  },
  {
   "cell_type": "code",
   "execution_count": 5,
   "metadata": {},
   "outputs": [
    {
     "name": "stdout",
     "output_type": "stream",
     "text": [
      "array([[ 5.        ,  0.        , -1.        ,  0.        ,  1.        ,\n",
      "         0.        ,  1.        ],\n",
      "       [ 0.33333333,  0.        , -1.33333333,  1.        , -0.33333333,\n",
      "         0.        ,  0.        ],\n",
      "       [ 1.66666667,  1.        ,  0.33333333,  0.        ,  0.33333333,\n",
      "         0.        ,  0.        ],\n",
      "       [ 0.33333333,  0.        ,  1.66666667,  0.        , -1.33333333,\n",
      "         1.        ,  0.        ]])\n"
     ]
    },
    {
     "name": "stderr",
     "output_type": "stream",
     "text": [
      "/anaconda3/lib/python3.6/site-packages/ipykernel_launcher.py:30: RuntimeWarning: divide by zero encountered in true_divide\n"
     ]
    }
   ],
   "source": [
    "c_1 = np.array([3, 2])\n",
    "A_1 = np.array([[1, -1], [3, 1], [4, 3]])\n",
    "b_1 = np.array([2, 5, 7])\n",
    "xcv1= simplex_algo(c_1, A_1, b_1)\n",
    "\n",
    "# xcv1.index\n",
    "\n",
    "# m= xcv1.x_tableau()\n",
    "# print(xcv1.pivot())\n",
    "# print(\"Before\",xcv1.T)\n",
    "# # xcv1.pivot_oper()\n",
    "pprint(xcv1.solve_simplex())\n",
    "\n"
   ]
  },
  {
   "cell_type": "code",
   "execution_count": null,
   "metadata": {},
   "outputs": [],
   "source": []
  }
 ],
 "metadata": {
  "kernelspec": {
   "display_name": "Python 3",
   "language": "python",
   "name": "python3"
  },
  "language_info": {
   "codemirror_mode": {
    "name": "ipython",
    "version": 3
   },
   "file_extension": ".py",
   "mimetype": "text/x-python",
   "name": "python",
   "nbconvert_exporter": "python",
   "pygments_lexer": "ipython3",
   "version": "3.6.5"
  }
 },
 "nbformat": 4,
 "nbformat_minor": 2
}
