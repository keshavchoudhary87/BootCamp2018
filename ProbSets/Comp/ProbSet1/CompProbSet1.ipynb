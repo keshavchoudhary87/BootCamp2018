{
 "cells": [
  {
   "cell_type": "markdown",
   "metadata": {},
   "source": [
    "# Introduction to Numpy Problem Set"
   ]
  },
  {
   "cell_type": "markdown",
   "metadata": {},
   "source": [
    "Problem 1"
   ]
  },
  {
   "cell_type": "code",
   "execution_count": 2,
   "metadata": {},
   "outputs": [],
   "source": [
    "import numpy as np"
   ]
  },
  {
   "cell_type": "code",
   "execution_count": 10,
   "metadata": {},
   "outputs": [
    {
     "data": {
      "text/plain": [
       "array([[ 37,  14, -32, -10],\n",
       "       [-54,  -7,  58,  65]])"
      ]
     },
     "execution_count": 10,
     "metadata": {},
     "output_type": "execute_result"
    }
   ],
   "source": [
    "def prob1():\n",
    "    A = np.array([[3,-1,4], [1,5,-9]])\n",
    "    B = np.array([[2,6,-5,3], [5,-8,9,7], [9,-3,-2,-3]])\n",
    "    return A@B\n",
    "\n",
    "prob1()\n",
    "    "
   ]
  },
  {
   "cell_type": "markdown",
   "metadata": {},
   "source": [
    "Problem 2"
   ]
  },
  {
   "cell_type": "code",
   "execution_count": 14,
   "metadata": {},
   "outputs": [
    {
     "data": {
      "text/plain": [
       "array([[0, 0, 0],\n",
       "       [0, 0, 0],\n",
       "       [0, 0, 0]])"
      ]
     },
     "execution_count": 14,
     "metadata": {},
     "output_type": "execute_result"
    }
   ],
   "source": [
    "def prob2():\n",
    "    A = np.array([[3,1,4], [1,5,9], [-5,3,1]])\n",
    "    A3 = (A@A)@A\n",
    "    A2 = A@A\n",
    "    return -A3 + 9*A2 - 15*A\n",
    "\n",
    "prob2()"
   ]
  },
  {
   "cell_type": "markdown",
   "metadata": {},
   "source": [
    "Problem 3\n"
   ]
  },
  {
   "cell_type": "code",
   "execution_count": 18,
   "metadata": {},
   "outputs": [
    {
     "data": {
      "text/plain": [
       "array([[ -7,  -8,  -3,   8,  25,  48,  77],\n",
       "       [ -6, -12, -12,  -6,   6,  24,  48],\n",
       "       [ -5, -10, -15, -14,  -7,   6,  25],\n",
       "       [ -4,  -8, -12, -16, -14,  -6,   8],\n",
       "       [ -3,  -6,  -9, -12, -15, -12,  -3],\n",
       "       [ -2,  -4,  -6,  -8, -10, -12,  -8],\n",
       "       [ -1,  -2,  -3,  -4,  -5,  -6,  -7]])"
      ]
     },
     "execution_count": 18,
     "metadata": {},
     "output_type": "execute_result"
    }
   ],
   "source": [
    "def prob3():\n",
    "    A = np.ones((7,7))\n",
    "    A = np.triu(A)\n",
    "    B = np.ones((7,7))\n",
    "    C = np.tril(B)*-1\n",
    "    D = np.triu(B)*5\n",
    "    B = C + D\n",
    "    I = np.eye(7,7)*5\n",
    "    B = B - I\n",
    "    mult = A@B@A\n",
    "    mult = mult.astype(np.int64)\n",
    "    return mult\n",
    "\n",
    "prob3()"
   ]
  },
  {
   "cell_type": "markdown",
   "metadata": {},
   "source": [
    "Problem 4"
   ]
  },
  {
   "cell_type": "code",
   "execution_count": 19,
   "metadata": {},
   "outputs": [],
   "source": [
    "def prob4(A):\n",
    "    B = np.copy(A)\n",
    "    mask = B < 0\n",
    "    B[mask] = 0\n",
    "    return B"
   ]
  },
  {
   "cell_type": "markdown",
   "metadata": {},
   "source": [
    "Problem 5"
   ]
  },
  {
   "cell_type": "code",
   "execution_count": 21,
   "metadata": {},
   "outputs": [
    {
     "data": {
      "text/plain": [
       "array([[ 0.,  0.,  0.,  0.,  1.,  1.,  0.,  0.],\n",
       "       [ 0.,  0.,  0.,  2.,  3.,  0.,  1.,  0.],\n",
       "       [ 0.,  0.,  0.,  4.,  5.,  0.,  0.,  1.],\n",
       "       [ 0.,  2.,  4.,  0.,  0.,  0.,  0.,  0.],\n",
       "       [ 1.,  3.,  5.,  0.,  0.,  0.,  0.,  0.],\n",
       "       [ 3.,  0.,  0.,  0.,  0., -2.,  0.,  0.],\n",
       "       [ 3.,  3.,  0.,  0.,  0.,  0., -2.,  0.],\n",
       "       [ 3.,  3.,  3.,  0.,  0.,  0.,  0., -2.]])"
      ]
     },
     "execution_count": 21,
     "metadata": {},
     "output_type": "execute_result"
    }
   ],
   "source": [
    "def prob5():\n",
    "    A = np.array([[0,2,4], [1,3,5]])\n",
    "    B = np.array([[3,0,0], [3,3,0], [3,3,3]])\n",
    "    C = np.array([[-2,0,0], [0,-2,0], [0,0,-2]])\n",
    "    O1 = np.zeros((3,3))\n",
    "    O21 = np.zeros((2,2))\n",
    "    O22 = np.zeros((2,3))\n",
    "    O3 = np.zeros((3,2))\n",
    "    I = np.eye(3,3)\n",
    "    R1 = np.hstack((O1, A.T, I))\n",
    "    R2 = np.hstack((A, O21, O22))\n",
    "    R3 = np.hstack((B, O3, C))\n",
    "    matrix = np.vstack((R1,R2,R3))\n",
    "    return matrix\n",
    "prob5()\n",
    "    "
   ]
  },
  {
   "cell_type": "markdown",
   "metadata": {},
   "source": [
    "Problem 6"
   ]
  },
  {
   "cell_type": "code",
   "execution_count": 3,
   "metadata": {},
   "outputs": [
    {
     "data": {
      "text/plain": [
       "array([[0.33333333, 0.33333333, 0.33333333],\n",
       "       [0.33333333, 0.33333333, 0.33333333],\n",
       "       [0.33333333, 0.33333333, 0.33333333],\n",
       "       [0.33333333, 0.33333333, 0.33333333]])"
      ]
     },
     "execution_count": 3,
     "metadata": {},
     "output_type": "execute_result"
    }
   ],
   "source": [
    "def prob6(A):\n",
    "    rowsum = np.sum(A, axis=1).reshape(-1,1)\n",
    "    A = A / rowsum\n",
    "    return A\n",
    "prob6(np.array([[1,1,1], [2,2,2], [3,3,3], [4,4,4]]))"
   ]
  },
  {
   "cell_type": "code",
   "execution_count": 3,
   "metadata": {},
   "outputs": [
    {
     "data": {
      "text/plain": [
       "70600674"
      ]
     },
     "execution_count": 3,
     "metadata": {},
     "output_type": "execute_result"
    }
   ],
   "source": [
    "def prob7():\n",
    "    grid = np.load(\"grid.npy\")\n",
    "    rowmax = np.max(grid[:, :-3] * grid[:, 1:-2] * grid[:, 2:-1] * grid[:, 3:])\n",
    "    colmax = np.max(grid[:-3, :] * grid[1:-2, :] * grid[2:-1] * grid[3:, :])\n",
    "    lowdiagmax = np.max(grid[:-3, :-3] * grid[1:-2, 1:-2] * grid[2:-1, 2:-1] * grid[3:, 3:])\n",
    "    updiagmax = np.max(grid[3:, :-3] * grid[2:-1, 1:-2] * grid[1:-2, 2:-1] * grid[:-3, 3:])\n",
    "    return np.max([rowmax, colmax, lowdiagmax, updiagmax])\n",
    "prob7()"
   ]
  },
  {
   "cell_type": "markdown",
   "metadata": {},
   "source": [
    "# Standard Library Problem Set"
   ]
  },
  {
   "cell_type": "markdown",
   "metadata": {},
   "source": [
    "Problem 1"
   ]
  },
  {
   "cell_type": "code",
   "execution_count": 4,
   "metadata": {},
   "outputs": [
    {
     "data": {
      "text/plain": [
       "[1, 5, 3.0]"
      ]
     },
     "execution_count": 4,
     "metadata": {},
     "output_type": "execute_result"
    }
   ],
   "source": [
    "def prob1(L):\n",
    "    R = [min(L), max(L), sum(L)/len(L)]\n",
    "    return R\n",
    "prob1([1,2,3,4,5])"
   ]
  },
  {
   "cell_type": "markdown",
   "metadata": {},
   "source": [
    "Problem 2"
   ]
  },
  {
   "cell_type": "code",
   "execution_count": 10,
   "metadata": {},
   "outputs": [
    {
     "name": "stdout",
     "output_type": "stream",
     "text": [
      "False\n",
      "False\n",
      "True\n",
      "False\n",
      "True\n"
     ]
    }
   ],
   "source": [
    "'''Integer'''\n",
    "Integer_1 = 5\n",
    "Integer_2 = Integer_1\n",
    "Integer_2 += 1\n",
    "print(Integer_1 == Integer_2)\n",
    "\n",
    "\n",
    "'''String'''\n",
    "String_1 = 'keshav'\n",
    "String_2 = String_1\n",
    "String_2 += 'choudhary'\n",
    "print(String_1 == String_2)\n",
    "\n",
    "\n",
    "'''List'''\n",
    "List_1 = [1,2,3]\n",
    "List_2 = List_1\n",
    "List_2[2] += 1  \n",
    "print(List_1 == List_2)\n",
    "\n",
    "\n",
    "'''Tuple'''\n",
    "tuple1 = (1,2,3)\n",
    "tuple2 = tuple1\n",
    "tuple2 += (1,3)\n",
    "print(tuple1 == tuple2)\n",
    "\n",
    "\n",
    "'''Set'''\n",
    "set1 = {1, 2, 3, 4}\n",
    "set2 = set1\n",
    "set2.add('a')\n",
    "print(set1 == set2)\n"
   ]
  },
  {
   "cell_type": "markdown",
   "metadata": {},
   "source": [
    "Problem 3"
   ]
  },
  {
   "cell_type": "code",
   "execution_count": 7,
   "metadata": {},
   "outputs": [
    {
     "data": {
      "text/plain": [
       "5.0"
      ]
     },
     "execution_count": 7,
     "metadata": {},
     "output_type": "execute_result"
    }
   ],
   "source": [
    "import calculator as calc\n",
    "def hypotenuse(a,b):\n",
    "    C = calc.sqrt(calc.sum(calc.product(a,a), calc.product(b,b)))\n",
    "    return C\n",
    "hypotenuse(3,4)"
   ]
  },
  {
   "cell_type": "markdown",
   "metadata": {},
   "source": [
    "Problem 4"
   ]
  },
  {
   "cell_type": "code",
   "execution_count": 3,
   "metadata": {},
   "outputs": [
    {
     "name": "stdout",
     "output_type": "stream",
     "text": [
      "[[()], [(1,), (2,), (3,)], [(1, 2), (1, 3), (2, 3)], [(1, 2, 3)]]\n"
     ]
    },
    {
     "data": {
      "text/plain": [
       "[set(), {1}, {2}, {3}, {1, 2}, {1, 3}, {2, 3}, {1, 2, 3}]"
      ]
     },
     "execution_count": 3,
     "metadata": {},
     "output_type": "execute_result"
    }
   ],
   "source": [
    "from itertools import combinations, chain\n",
    "\n",
    "def power(A):\n",
    "    B = []\n",
    "    for i in range (len(A)+1):\n",
    "        B.append(list(combinations(A, i)))\n",
    "    C = list(chain(*B)) \n",
    "    D = []\n",
    "    for i in range(len(C)):\n",
    "        D.append(set(C[i]))    \n",
    "    return D\n",
    "\n",
    "power({1,2,3})"
   ]
  },
  {
   "cell_type": "code",
   "execution_count": null,
   "metadata": {},
   "outputs": [],
   "source": []
  },
  {
   "cell_type": "code",
   "execution_count": null,
   "metadata": {},
   "outputs": [],
   "source": []
  },
  {
   "cell_type": "markdown",
   "metadata": {},
   "source": [
    "# Unit Testing Problem Set"
   ]
  },
  {
   "cell_type": "markdown",
   "metadata": {},
   "source": [
    "Problem 1"
   ]
  },
  {
   "cell_type": "markdown",
   "metadata": {},
   "source": [
    "There is a file called prob1.py in the folder. This contains the original program. The file test_prob1.py in the same folder contains the test, which checks for perfect squares. The test fails for perfect squares. The corrected function is:"
   ]
  },
  {
   "cell_type": "code",
   "execution_count": 1,
   "metadata": {},
   "outputs": [],
   "source": [
    "def smallest_factor(n):\n",
    "    if n==1: return 1\n",
    "    for i in range(2, int(n**0.5)+1):\n",
    "        if n % i == 0: return i\n",
    "    return n\n",
    "\n"
   ]
  },
  {
   "cell_type": "markdown",
   "metadata": {},
   "source": [
    "Problem 2"
   ]
  },
  {
   "cell_type": "markdown",
   "metadata": {},
   "source": [
    "The unit test for Problem 1 in the file test_prob1.py is-\n"
   ]
  },
  {
   "cell_type": "code",
   "execution_count": 1,
   "metadata": {},
   "outputs": [],
   "source": [
    "import prob1\n",
    "\n",
    "def test_prob1():\n",
    "    assert prob1.smallest_factor(25) == 5, \"Failed on perfect squares\"\n"
   ]
  },
  {
   "cell_type": "markdown",
   "metadata": {},
   "source": [
    "This has 100% coverage."
   ]
  },
  {
   "cell_type": "markdown",
   "metadata": {},
   "source": [
    "The comprehensive unit test for the function returning the number of months is- "
   ]
  },
  {
   "cell_type": "code",
   "execution_count": 3,
   "metadata": {},
   "outputs": [],
   "source": [
    "import prob2\n",
    "\n",
    "def test_prob2():\n",
    "    assert prob2.month_length(\"January\", False) == 31, \"Error in January in non-leap year\"\n",
    "    assert prob2.month_length(\"February\", False) == 28, \"Error in February in non-leap year\"\n",
    "    assert prob2.month_length(\"March\", False) == 31, \"Error in March in non-leap year\"\n",
    "    assert prob2.month_length(\"April\", False) == 30, \"Error in April in non-leap year\"\n",
    "    assert prob2.month_length(\"May\", False) == 31, \"Error in May in non-leap year\"\n",
    "    assert prob2.month_length(\"June\", False) == 30, \"Error in June in non-leap year\"\n",
    "    assert prob2.month_length(\"July\", False) == 31, \"Error in July in non-leap year\"\n",
    "    assert prob2.month_length(\"August\", False) == 31, \"Error in August in non-leap year\"\n",
    "    assert prob2.month_length(\"September\", False) == 30, \"Error in September in non-leap year\"\n",
    "    assert prob2.month_length(\"October\", False) == 31, \"Error in October in non-leap year\"\n",
    "    assert prob2.month_length(\"November\", False) == 30, \"Error in Novemberin non-leap year\"\n",
    "    assert prob2.month_length(\"December\", False) == 31, \"Error in December in non-leap year\"\n",
    "    assert prob2.month_length(\"February\", True) == 29, \"Error in February in leap year\"\n",
    "    assert prob2.month_length(\"XYZ\", True) == None, \"Error when no month is inputted\"\n"
   ]
  },
  {
   "cell_type": "markdown",
   "metadata": {},
   "source": [
    "This test achieves 100% coverage. "
   ]
  },
  {
   "cell_type": "markdown",
   "metadata": {},
   "source": [
    "Problem 3"
   ]
  },
  {
   "cell_type": "markdown",
   "metadata": {},
   "source": [
    "The code for the unit test is- "
   ]
  },
  {
   "cell_type": "code",
   "execution_count": 4,
   "metadata": {},
   "outputs": [],
   "source": [
    "import prob3\n",
    "import pytest\n",
    "\n",
    "def test_operate():\n",
    "    with pytest.raises(TypeError) as excinfo1:\n",
    "        prob3.operate(1,2,1)\n",
    "    assert excinfo1.value.args[0] == \"oper must be a string\"\n",
    "    assert prob3.operate(1,2,'+') == 3, \"addition error\"\n",
    "    assert prob3.operate(4,1, '-') == 3 , \"subtraction error\"\n",
    "    assert prob3.operate(3,2,'*') == 6, 'multiplication error'\n",
    "    assert prob3.operate(8,2,'/') == 4, 'division error'\n",
    "    with pytest.raises(ZeroDivisionError) as excinfo2:\n",
    "        prob3.operate(1,0,'/')\n",
    "    assert excinfo2.value.args[0] == \"division by zero is undefined\"\n",
    "    with pytest.raises(ValueError) as excinfo3:\n",
    "        prob3.operate(1,3,'(')\n",
    "    assert excinfo3.value.args[0] == \"oper must be one of '+', '/', '-', or '*'\"\n"
   ]
  },
  {
   "cell_type": "markdown",
   "metadata": {},
   "source": [
    "This test achieves 100% coverage"
   ]
  },
  {
   "cell_type": "markdown",
   "metadata": {},
   "source": [
    "Problem 4"
   ]
  },
  {
   "cell_type": "code",
   "execution_count": null,
   "metadata": {},
   "outputs": [],
   "source": []
  }
 ],
 "metadata": {
  "kernelspec": {
   "display_name": "Python 3",
   "language": "python",
   "name": "python3"
  },
  "language_info": {
   "codemirror_mode": {
    "name": "ipython",
    "version": 3
   },
   "file_extension": ".py",
   "mimetype": "text/x-python",
   "name": "python",
   "nbconvert_exporter": "python",
   "pygments_lexer": "ipython3",
   "version": "3.6.5"
  }
 },
 "nbformat": 4,
 "nbformat_minor": 2
}
