{
 "cells": [
  {
   "cell_type": "code",
   "execution_count": 11,
   "metadata": {},
   "outputs": [],
   "source": [
    "import numpy as np\n",
    "import sympy as sy\n",
    "import matplotlib.pyplot as plt\n",
    "from autograd import numpy as anp\n",
    "from autograd import grad\n",
    "from autograd import elementwise_grad\n",
    "import time\n",
    "import scipy.stats as stats\n",
    "import scipy.optimize as opt\n",
    "import scipy.integrate as intgr\n",
    "import scipy.linalg as la\n",
    "from scipy import sparse"
   ]
  },
  {
   "cell_type": "markdown",
   "metadata": {},
   "source": [
    "# Iterative Solvers Problem Set"
   ]
  },
  {
   "cell_type": "markdown",
   "metadata": {},
   "source": [
    "Problem 1"
   ]
  },
  {
   "cell_type": "code",
   "execution_count": 2,
   "metadata": {},
   "outputs": [
    {
     "name": "stdout",
     "output_type": "stream",
     "text": [
      "Number of iterations:  24\n"
     ]
    },
    {
     "data": {
      "text/plain": [
       "True"
      ]
     },
     "execution_count": 2,
     "metadata": {},
     "output_type": "execute_result"
    }
   ],
   "source": [
    "def jacobi(A, b, tol, maxiter):\n",
    "    n,n = np.shape(A)\n",
    "    d = np.diagonal(A)\n",
    "    x0 = np.zeros(n)\n",
    "    dist=1\n",
    "    iter=0 \n",
    "    while (dist>tol) & (iter < maxiter):\n",
    "        x = x0 + (b - A@x0)/d\n",
    "        dist = la.norm(x - x0, ord = np.inf)\n",
    "        x0 = x\n",
    "        iter +=1\n",
    "    print('Number of iterations: ', iter)\n",
    "    return x\n",
    "\n",
    "def diag_dom(n, num_entries=None):\n",
    "    \"\"\"Generate a strictly diagonally dominant (n, n) matrix.\n",
    "    Parameters:\n",
    "        n (int): The dimension of the system.\n",
    "        num_entries (int): The number of nonzero values.\n",
    "            Defaults to n^(3/2)-n.\n",
    "    Returns:\n",
    "        A ((n,n) ndarray): A (n, n) strictly diagonally dominant matrix.\n",
    "    \"\"\"\n",
    "    if num_entries is None:\n",
    "        num_entries = int(n**1.5) - n\n",
    "    A = np.zeros((n,n))\n",
    "    rows = np.random.choice(np.arange(0,n), size=num_entries)\n",
    "    cols = np.random.choice(np.arange(0,n), size=num_entries)\n",
    "    data = np.random.randint(-4, 4, size=num_entries)\n",
    "    for i in range(num_entries):\n",
    "        A[rows[i], cols[i]] = data[i]\n",
    "    for i in range(n):\n",
    "        A[i,i] = np.sum(np.abs(A[i])) + 1\n",
    "    return A\n",
    "\n",
    "A = diag_dom(10)\n",
    "b = np.random.random(10)\n",
    "x= jacobi(A, b, 1e-10,500)\n",
    "np.allclose(b,A@x)"
   ]
  },
  {
   "cell_type": "markdown",
   "metadata": {},
   "source": [
    "Problem 2"
   ]
  },
  {
   "cell_type": "code",
   "execution_count": 3,
   "metadata": {},
   "outputs": [
    {
     "name": "stdout",
     "output_type": "stream",
     "text": [
      "Number of iterations:  27\n"
     ]
    },
    {
     "data": {
      "image/png": "[encoded data removed]",
      "text/plain": [
       "<Figure size 432x288 with 1 Axes>"
      ]
     },
     "metadata": {},
     "output_type": "display_data"
    }
   ],
   "source": [
    "def jacobi(A, b, tol, maxiter, plot= False):\n",
    "    n,n = np.shape(A)\n",
    "    d = np.diagonal(A)\n",
    "    x0 = np.zeros(n)\n",
    "    dist=1\n",
    "    iter=0\n",
    "    error = np.empty(0)\n",
    "    while (dist>tol) & (iter < maxiter):\n",
    "        x = x0 + (b - A@x0)/d\n",
    "        dist = la.norm(x - x0, ord = np.inf)\n",
    "        error = np.append(error, dist)\n",
    "        x0 = x\n",
    "        iter +=1\n",
    "    print('Number of iterations: ', iter)\n",
    "    if plot==True:\n",
    "        iteration = np.linspace(1, len(error), len(error))\n",
    "        plt.plot(iteration, error)\n",
    "        plt.yscale('log')\n",
    "        plt.xlabel('Iteration')\n",
    "        plt.ylabel('Absolute Error')\n",
    "        plt.title('Convergence of Jacobi Method')\n",
    "        plt.show()\n",
    "    return x, error\n",
    "\n",
    "def diag_dom(n, num_entries=None):\n",
    "    \"\"\"Generate a strictly diagonally dominant (n, n) matrix.\n",
    "    Parameters:\n",
    "        n (int): The dimension of the system.\n",
    "        num_entries (int): The number of nonzero values.\n",
    "            Defaults to n^(3/2)-n.\n",
    "    Returns:\n",
    "        A ((n,n) ndarray): A (n, n) strictly diagonally dominant matrix.\n",
    "    \"\"\"\n",
    "    if num_entries is None:\n",
    "        num_entries = int(n**1.5) - n\n",
    "    A = np.zeros((n,n))\n",
    "    rows = np.random.choice(np.arange(0,n), size=num_entries)\n",
    "    cols = np.random.choice(np.arange(0,n), size=num_entries)\n",
    "    data = np.random.randint(-4, 4, size=num_entries)\n",
    "    for i in range(num_entries):\n",
    "        A[rows[i], cols[i]] = data[i]\n",
    "    for i in range(n):\n",
    "        A[i,i] = np.sum(np.abs(A[i])) + 1\n",
    "    return A\n",
    "\n",
    "A = diag_dom(10)\n",
    "b = np.random.random(10)\n",
    "x,error= jacobi(A, b, 1e-10,500, True)"
   ]
  },
  {
   "cell_type": "markdown",
   "metadata": {},
   "source": [
    "Problem 3"
   ]
  },
  {
   "cell_type": "code",
   "execution_count": 4,
   "metadata": {},
   "outputs": [
    {
     "name": "stdout",
     "output_type": "stream",
     "text": [
      "Number of iterations:  34\n"
     ]
    },
    {
     "data": {
      "image/png": "[encoded data removed]",
      "text/plain": [
       "<Figure size 432x288 with 1 Axes>"
      ]
     },
     "metadata": {},
     "output_type": "display_data"
    },
    {
     "data": {
      "text/plain": [
       "True"
      ]
     },
     "execution_count": 4,
     "metadata": {},
     "output_type": "execute_result"
    }
   ],
   "source": [
    "def seidel(A, b, tol, maxiter, plot= False):\n",
    "    n,n = np.shape(A)\n",
    "    dist = 1\n",
    "    iter = 0\n",
    "    errors = np.empty(0)\n",
    "    x0 = np.zeros(n)\n",
    "    while (dist>tol) & (iter<maxiter):\n",
    "        x = np.copy(x0)\n",
    "        for i in range(n):\n",
    "            x[i] = x0[i]+ (1/A[i,i])*(b[i] - (A[i,:]).T@x0)\n",
    "        dist = la.norm(x-x0, ord=np.inf)\n",
    "        errors = np.append(errors, dist)\n",
    "        iter +=1\n",
    "        x0 = x\n",
    "    print('Number of iterations: ', iter)\n",
    "    if plot==True:\n",
    "        iteration = np.linspace(1, len(errors), len(errors))\n",
    "        plt.plot(iteration, errors)\n",
    "        plt.yscale('log')\n",
    "        plt.xlabel('Iteration')\n",
    "        plt.ylabel('Absolute Error')\n",
    "        plt.title('Convergence of Seidel Method')\n",
    "        plt.show()\n",
    "    return x,errors\n",
    "\n",
    "def diag_dom(n, num_entries=None):\n",
    "    \"\"\"Generate a strictly diagonally dominant (n, n) matrix.\n",
    "    Parameters:\n",
    "        n (int): The dimension of the system.\n",
    "        num_entries (int): The number of nonzero values.\n",
    "            Defaults to n^(3/2)-n.\n",
    "    Returns:\n",
    "        A ((n,n) ndarray): A (n, n) strictly diagonally dominant matrix.\n",
    "    \"\"\"\n",
    "    if num_entries is None:\n",
    "        num_entries = int(n**1.5) - n\n",
    "    A = np.zeros((n,n))\n",
    "    rows = np.random.choice(np.arange(0,n), size=num_entries)\n",
    "    cols = np.random.choice(np.arange(0,n), size=num_entries)\n",
    "    data = np.random.randint(-4, 4, size=num_entries)\n",
    "    for i in range(num_entries):\n",
    "        A[rows[i], cols[i]] = data[i]\n",
    "    for i in range(n):\n",
    "        A[i,i] = np.sum(np.abs(A[i])) + 1\n",
    "    return A\n",
    "\n",
    "A = diag_dom(10)\n",
    "b = np.random.random(10)\n",
    "x,errors= seidel(A, b, 1e-10,500, True)\n",
    "np.allclose(b,A@x)\n",
    "\n",
    "\n",
    "        \n",
    "        \n",
    "        "
   ]
  },
  {
   "cell_type": "markdown",
   "metadata": {},
   "source": [
    "Problem 4 "
   ]
  },
  {
   "cell_type": "code",
   "execution_count": 5,
   "metadata": {},
   "outputs": [
    {
     "name": "stdout",
     "output_type": "stream",
     "text": [
      "Number of iterations:  23\n"
     ]
    },
    {
     "data": {
      "text/plain": [
       "True"
      ]
     },
     "execution_count": 5,
     "metadata": {},
     "output_type": "execute_result"
    }
   ],
   "source": [
    "def prob4(A, b, tol, maxiter):\n",
    "    n,n = np.shape(A)\n",
    "    dist = 1\n",
    "    iter = 0\n",
    "    errors = np.empty(0)\n",
    "    x0 = np.zeros(n)\n",
    "    while (dist>tol) & (iter<maxiter):\n",
    "        x = np.copy(x0)\n",
    "        for i in range(n):\n",
    "            rowstart = A.indptr[i]\n",
    "            rowend = A.indptr[i+1]\n",
    "            x[i] = x0[i]+ (1/A[i,i])*(b[i] - A.data[rowstart:rowend]@x0[A.indices[rowstart:rowend]])\n",
    "        dist = la.norm(x-x0, ord=np.inf)\n",
    "        errors = np.append(errors, dist)\n",
    "        iter +=1\n",
    "        x0 = x\n",
    "    print('Number of iterations: ', iter)\n",
    "    return x,errors\n",
    "\n",
    "def diag_dom(n, num_entries=None):\n",
    "    \"\"\"Generate a strictly diagonally dominant (n, n) matrix.\n",
    "    Parameters:\n",
    "        n (int): The dimension of the system.\n",
    "        num_entries (int): The number of nonzero values.\n",
    "            Defaults to n^(3/2)-n.\n",
    "    Returns:\n",
    "        A ((n,n) ndarray): A (n, n) strictly diagonally dominant matrix.\n",
    "    \"\"\"\n",
    "    if num_entries is None:\n",
    "        num_entries = int(n**1.5) - n\n",
    "    A = np.zeros((n,n))\n",
    "    rows = np.random.choice(np.arange(0,n), size=num_entries)\n",
    "    cols = np.random.choice(np.arange(0,n), size=num_entries)\n",
    "    data = np.random.randint(-4, 4, size=num_entries)\n",
    "    for i in range(num_entries):\n",
    "        A[rows[i], cols[i]] = data[i]\n",
    "    for i in range(n):\n",
    "        A[i,i] = np.sum(np.abs(A[i])) + 1\n",
    "    return A\n",
    "\n",
    "A = sparse.csr_matrix(diag_dom(5000))\n",
    "b = np.random.random(5000)\n",
    "x,errors= prob4(A, b, 1e-15,500)\n",
    "np.allclose(b,A@x)\n",
    "    "
   ]
  },
  {
   "cell_type": "markdown",
   "metadata": {},
   "source": [
    "Problem 5"
   ]
  },
  {
   "cell_type": "code",
   "execution_count": 6,
   "metadata": {},
   "outputs": [
    {
     "name": "stdout",
     "output_type": "stream",
     "text": [
      "Number of iterations:  55\n"
     ]
    },
    {
     "data": {
      "text/plain": [
       "True"
      ]
     },
     "execution_count": 6,
     "metadata": {},
     "output_type": "execute_result"
    }
   ],
   "source": [
    "def prob5(A, b, w, tol, maxiter):\n",
    "    n,n = np.shape(A)\n",
    "    dist = 1\n",
    "    iter = 0\n",
    "    errors = np.empty(0)\n",
    "    x0 = np.zeros(n)\n",
    "    while (dist>tol) & (iter<maxiter):\n",
    "        x = np.copy(x0)\n",
    "        for i in range(n):\n",
    "            rowstart = A.indptr[i]\n",
    "            rowend = A.indptr[i+1]\n",
    "            x[i] = x0[i]+ (w/A[i,i])*(b[i] - A.data[rowstart:rowend]@x0[A.indices[rowstart:rowend]])\n",
    "        dist = la.norm(x-x0, ord=np.inf)\n",
    "        errors = np.append(errors, dist)\n",
    "        iter +=1\n",
    "        x0 = x\n",
    "    print('Number of iterations: ', iter)\n",
    "    return x,errors\n",
    "\n",
    "def diag_dom(n, num_entries=None):\n",
    "    \"\"\"Generate a strictly diagonally dominant (n, n) matrix.\n",
    "    Parameters:\n",
    "        n (int): The dimension of the system.\n",
    "        num_entries (int): The number of nonzero values.\n",
    "            Defaults to n^(3/2)-n.\n",
    "    Returns:\n",
    "        A ((n,n) ndarray): A (n, n) strictly diagonally dominant matrix.\n",
    "    \"\"\"\n",
    "    if num_entries is None:\n",
    "        num_entries = int(n**1.5) - n\n",
    "    A = np.zeros((n,n))\n",
    "    rows = np.random.choice(np.arange(0,n), size=num_entries)\n",
    "    cols = np.random.choice(np.arange(0,n), size=num_entries)\n",
    "    data = np.random.randint(-4, 4, size=num_entries)\n",
    "    for i in range(num_entries):\n",
    "        A[rows[i], cols[i]] = data[i]\n",
    "    for i in range(n):\n",
    "        A[i,i] = np.sum(np.abs(A[i])) + 1\n",
    "    return A\n",
    "\n",
    "A = sparse.csr_matrix(diag_dom(1000))\n",
    "b = np.random.random(1000)\n",
    "x,errors= prob5(A, b, 1.3, 1e-15,500)\n",
    "np.allclose(b,A@x)"
   ]
  },
  {
   "cell_type": "markdown",
   "metadata": {},
   "source": [
    "Problem 6"
   ]
  },
  {
   "cell_type": "code",
   "execution_count": 7,
   "metadata": {},
   "outputs": [
    {
     "data": {
      "image/png": "[encoded data removed]",
      "text/plain": [
       "<Figure size 432x288 with 1 Axes>"
      ]
     },
     "metadata": {},
     "output_type": "display_data"
    },
    {
     "data": {
      "text/plain": [
       "100"
      ]
     },
     "execution_count": 7,
     "metadata": {},
     "output_type": "execute_result"
    }
   ],
   "source": [
    "def prob_5(A, b, w, tol, maxiter):\n",
    "    n,n = np.shape(A)\n",
    "    dist = 1\n",
    "    iter = 0\n",
    "    errors = np.empty(0)\n",
    "    x0 = np.zeros(n)\n",
    "    while (dist>tol) & (iter<maxiter):\n",
    "        x = np.copy(x0)\n",
    "        for i in range(n):\n",
    "            rowstart = A.indptr[i]\n",
    "            rowend = A.indptr[i+1]\n",
    "            x[i] = x0[i]+ (w/A[i,i])*(b[i] - A.data[rowstart:rowend]@x0[A.indices[rowstart:rowend]])\n",
    "        dist = la.norm(x-x0, ord=np.inf)\n",
    "        errors = np.append(errors, dist)\n",
    "        iter +=1\n",
    "        x0 = x\n",
    "    return x,iter\n",
    "\n",
    "\n",
    "def prob6(n, w, tol=10e-8, maxiter=100, plot=False):\n",
    "    ones = np.ones(n-1)\n",
    "    fours = -4*np.ones(n)\n",
    "    B = np.diag(fours)\n",
    "    np.fill_diagonal(B[1:], ones)\n",
    "    np.fill_diagonal(B[:, 1:], ones)\n",
    "    I = np.eye(n)\n",
    "    BB = np.eye(n)\n",
    "    II = np.zeros((n, n))\n",
    "    np.fill_diagonal(II[1:], ones)\n",
    "    np.fill_diagonal(II[:, 1:], ones)\n",
    "    A = np.kron(II, I) + np.kron(BB, B)\n",
    "    A_use = sparse.csr_matrix(A)\n",
    "    b_tile = np.zeros(n)\n",
    "    b_tile[0] = -100\n",
    "    b_tile[-1] = -100\n",
    "    b = np.tile(b_tile, n) \n",
    "    x, iter = prob_5(A_use, b, w, tol=tol, maxiter=maxiter)\n",
    "    if plot == True:\n",
    "        x_grid = np.reshape(x, (n,n))\n",
    "        plt.pcolormesh(np.linspace(0, n, n+1), np.linspace(0, n, n+1), x_grid)\n",
    "        plt.show()\n",
    "    return iter\n",
    "\n",
    "\n",
    "prob6(50, 1.0, plot=True)"
   ]
  },
  {
   "cell_type": "markdown",
   "metadata": {},
   "source": [
    "Problem 7"
   ]
  },
  {
   "cell_type": "code",
   "execution_count": 13,
   "metadata": {},
   "outputs": [
    {
     "data": {
      "image/png": "[encoded data removed]",
      "text/plain": [
       "<Figure size 432x288 with 1 Axes>"
      ]
     },
     "metadata": {},
     "output_type": "display_data"
    }
   ],
   "source": [
    "w_7 = np.linspace(1, 1.95, 20)\n",
    "iterations = np.zeros(20)\n",
    "for i in range(20):\n",
    "    iterations[i] = prob6(20, w_7[i], tol=1e-2, maxiter = 500, plot=False)\n",
    "plt.plot(w_7, iterations)\n",
    "plt.show()"
   ]
  },
  {
   "cell_type": "code",
   "execution_count": null,
   "metadata": {},
   "outputs": [],
   "source": []
  }
 ],
 "metadata": {
  "kernelspec": {
   "display_name": "Python 3",
   "language": "python",
   "name": "python3"
  },
  "language_info": {
   "codemirror_mode": {
    "name": "ipython",
    "version": 3
   },
   "file_extension": ".py",
   "mimetype": "text/x-python",
   "name": "python",
   "nbconvert_exporter": "python",
   "pygments_lexer": "ipython3",
   "version": "3.6.5"
  }
 },
 "nbformat": 4,
 "nbformat_minor": 2
}
