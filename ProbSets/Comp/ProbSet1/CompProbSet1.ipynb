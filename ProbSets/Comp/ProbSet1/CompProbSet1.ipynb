{
 "cells": [
  {
   "cell_type": "markdown",
   "metadata": {},
   "source": [
    "# Introduction to Numpy Problem Set"
   ]
  },
  {
   "cell_type": "markdown",
   "metadata": {},
   "source": [
    "Problem 1"
   ]
  },
  {
   "cell_type": "code",
   "execution_count": 2,
   "metadata": {},
   "outputs": [],
   "source": [
    "import numpy as np"
   ]
  },
  {
   "cell_type": "code",
   "execution_count": 10,
   "metadata": {},
   "outputs": [
    {
     "data": {
      "text/plain": [
       "array([[ 37,  14, -32, -10],\n",
       "       [-54,  -7,  58,  65]])"
      ]
     },
     "execution_count": 10,
     "metadata": {},
     "output_type": "execute_result"
    }
   ],
   "source": [
    "def prob1():\n",
    "    A = np.array([[3,-1,4], [1,5,-9]])\n",
    "    B = np.array([[2,6,-5,3], [5,-8,9,7], [9,-3,-2,-3]])\n",
    "    return A@B\n",
    "\n",
    "prob1()\n",
    "    "
   ]
  },
  {
   "cell_type": "markdown",
   "metadata": {},
   "source": [
    "Problem 2"
   ]
  },
  {
   "cell_type": "code",
   "execution_count": 14,
   "metadata": {},
   "outputs": [
    {
     "data": {
      "text/plain": [
       "array([[0, 0, 0],\n",
       "       [0, 0, 0],\n",
       "       [0, 0, 0]])"
      ]
     },
     "execution_count": 14,
     "metadata": {},
     "output_type": "execute_result"
    }
   ],
   "source": [
    "def prob2():\n",
    "    A = np.array([[3,1,4], [1,5,9], [-5,3,1]])\n",
    "    A3 = (A@A)@A\n",
    "    A2 = A@A\n",
    "    return -A3 + 9*A2 - 15*A\n",
    "\n",
    "prob2()"
   ]
  },
  {
   "cell_type": "markdown",
   "metadata": {},
   "source": [
    "Problem 3\n"
   ]
  },
  {
   "cell_type": "code",
   "execution_count": 18,
   "metadata": {},
   "outputs": [
    {
     "data": {
      "text/plain": [
       "array([[ -7,  -8,  -3,   8,  25,  48,  77],\n",
       "       [ -6, -12, -12,  -6,   6,  24,  48],\n",
       "       [ -5, -10, -15, -14,  -7,   6,  25],\n",
       "       [ -4,  -8, -12, -16, -14,  -6,   8],\n",
       "       [ -3,  -6,  -9, -12, -15, -12,  -3],\n",
       "       [ -2,  -4,  -6,  -8, -10, -12,  -8],\n",
       "       [ -1,  -2,  -3,  -4,  -5,  -6,  -7]])"
      ]
     },
     "execution_count": 18,
     "metadata": {},
     "output_type": "execute_result"
    }
   ],
   "source": [
    "def prob3():\n",
    "    A = np.ones((7,7))\n",
    "    A = np.triu(A)\n",
    "    B = np.ones((7,7))\n",
    "    C = np.tril(B)*-1\n",
    "    D = np.triu(B)*5\n",
    "    B = C + D\n",
    "    I = np.eye(7,7)*5\n",
    "    B = B - I\n",
    "    mult = A@B@A\n",
    "    mult = mult.astype(np.int64)\n",
    "    return mult\n",
    "\n",
    "prob3()"
   ]
  },
  {
   "cell_type": "markdown",
   "metadata": {},
   "source": [
    "Problem 4"
   ]
  },
  {
   "cell_type": "code",
   "execution_count": 19,
   "metadata": {},
   "outputs": [],
   "source": [
    "def prob4(A):\n",
    "    B = np.copy(A)\n",
    "    mask = B < 0\n",
    "    B[mask] = 0\n",
    "    return B"
   ]
  },
  {
   "cell_type": "markdown",
   "metadata": {},
   "source": [
    "Problem 5"
   ]
  },
  {
   "cell_type": "code",
   "execution_count": 21,
   "metadata": {},
   "outputs": [
    {
     "data": {
      "text/plain": [
       "array([[ 0.,  0.,  0.,  0.,  1.,  1.,  0.,  0.],\n",
       "       [ 0.,  0.,  0.,  2.,  3.,  0.,  1.,  0.],\n",
       "       [ 0.,  0.,  0.,  4.,  5.,  0.,  0.,  1.],\n",
       "       [ 0.,  2.,  4.,  0.,  0.,  0.,  0.,  0.],\n",
       "       [ 1.,  3.,  5.,  0.,  0.,  0.,  0.,  0.],\n",
       "       [ 3.,  0.,  0.,  0.,  0., -2.,  0.,  0.],\n",
       "       [ 3.,  3.,  0.,  0.,  0.,  0., -2.,  0.],\n",
       "       [ 3.,  3.,  3.,  0.,  0.,  0.,  0., -2.]])"
      ]
     },
     "execution_count": 21,
     "metadata": {},
     "output_type": "execute_result"
    }
   ],
   "source": [
    "def prob5():\n",
    "    A = np.array([[0,2,4], [1,3,5]])\n",
    "    B = np.array([[3,0,0], [3,3,0], [3,3,3]])\n",
    "    C = np.array([[-2,0,0], [0,-2,0], [0,0,-2]])\n",
    "    O1 = np.zeros((3,3))\n",
    "    O21 = np.zeros((2,2))\n",
    "    O22 = np.zeros((2,3))\n",
    "    O3 = np.zeros((3,2))\n",
    "    I = np.eye(3,3)\n",
    "    R1 = np.hstack((O1, A.T, I))\n",
    "    R2 = np.hstack((A, O21, O22))\n",
    "    R3 = np.hstack((B, O3, C))\n",
    "    matrix = np.vstack((R1,R2,R3))\n",
    "    return matrix\n",
    "prob5()\n",
    "    "
   ]
  },
  {
   "cell_type": "markdown",
   "metadata": {},
   "source": [
    "Problem 6"
   ]
  },
  {
   "cell_type": "code",
   "execution_count": 3,
   "metadata": {},
   "outputs": [
    {
     "data": {
      "text/plain": [
       "array([[0.33333333, 0.33333333, 0.33333333],\n",
       "       [0.33333333, 0.33333333, 0.33333333],\n",
       "       [0.33333333, 0.33333333, 0.33333333],\n",
       "       [0.33333333, 0.33333333, 0.33333333]])"
      ]
     },
     "execution_count": 3,
     "metadata": {},
     "output_type": "execute_result"
    }
   ],
   "source": [
    "def prob6(A):\n",
    "    rowsum = np.sum(A, axis=1).reshape(-1,1)\n",
    "    A = A / rowsum\n",
    "    return A\n",
    "prob6(np.array([[1,1,1], [2,2,2], [3,3,3], [4,4,4]]))"
   ]
  },
  {
   "cell_type": "code",
   "execution_count": 3,
   "metadata": {},
   "outputs": [
    {
     "data": {
      "text/plain": [
       "70600674"
      ]
     },
     "execution_count": 3,
     "metadata": {},
     "output_type": "execute_result"
    }
   ],
   "source": [
    "def prob7():\n",
    "    grid = np.load(\"grid.npy\")\n",
    "    rowmax = np.max(grid[:, :-3] * grid[:, 1:-2] * grid[:, 2:-1] * grid[:, 3:])\n",
    "    colmax = np.max(grid[:-3, :] * grid[1:-2, :] * grid[2:-1] * grid[3:, :])\n",
    "    lowdiagmax = np.max(grid[:-3, :-3] * grid[1:-2, 1:-2] * grid[2:-1, 2:-1] * grid[3:, 3:])\n",
    "    updiagmax = np.max(grid[3:, :-3] * grid[2:-1, 1:-2] * grid[1:-2, 2:-1] * grid[:-3, 3:])\n",
    "    return np.max([rowmax, colmax, lowdiagmax, updiagmax])\n",
    "prob7()"
   ]
  },
  {
   "cell_type": "markdown",
   "metadata": {},
   "source": [
    "# Standard Library Problem Set"
   ]
  },
  {
   "cell_type": "markdown",
   "metadata": {},
   "source": [
    "Problem 1"
   ]
  },
  {
   "cell_type": "code",
   "execution_count": 4,
   "metadata": {},
   "outputs": [
    {
     "data": {
      "text/plain": [
       "[1, 5, 3.0]"
      ]
     },
     "execution_count": 4,
     "metadata": {},
     "output_type": "execute_result"
    }
   ],
   "source": [
    "def prob1(L):\n",
    "    R = [min(L), max(L), sum(L)/len(L)]\n",
    "    return R\n",
    "prob1([1,2,3,4,5])"
   ]
  },
  {
   "cell_type": "markdown",
   "metadata": {},
   "source": [
    "Problem 2"
   ]
  },
  {
   "cell_type": "code",
   "execution_count": 10,
   "metadata": {},
   "outputs": [
    {
     "name": "stdout",
     "output_type": "stream",
     "text": [
      "False\n",
      "False\n",
      "True\n",
      "False\n",
      "True\n"
     ]
    }
   ],
   "source": [
    "'''Integer'''\n",
    "Integer_1 = 5\n",
    "Integer_2 = Integer_1\n",
    "Integer_2 += 1\n",
    "print(Integer_1 == Integer_2)\n",
    "\n",
    "\n",
    "'''String'''\n",
    "String_1 = 'keshav'\n",
    "String_2 = String_1\n",
    "String_2 += 'choudhary'\n",
    "print(String_1 == String_2)\n",
    "\n",
    "\n",
    "'''List'''\n",
    "List_1 = [1,2,3]\n",
    "List_2 = List_1\n",
    "List_2[2] += 1  \n",
    "print(List_1 == List_2)\n",
    "\n",
    "\n",
    "'''Tuple'''\n",
    "tuple1 = (1,2,3)\n",
    "tuple2 = tuple1\n",
    "tuple2 += (1,3)\n",
    "print(tuple1 == tuple2)\n",
    "\n",
    "\n",
    "'''Set'''\n",
    "set1 = {1, 2, 3, 4}\n",
    "set2 = set1\n",
    "set2.add('a')\n",
    "print(set1 == set2)\n"
   ]
  },
  {
   "cell_type": "markdown",
   "metadata": {},
   "source": [
    "Problem 3"
   ]
  },
  {
   "cell_type": "code",
   "execution_count": 7,
   "metadata": {},
   "outputs": [
    {
     "data": {
      "text/plain": [
       "5.0"
      ]
     },
     "execution_count": 7,
     "metadata": {},
     "output_type": "execute_result"
    }
   ],
   "source": [
    "import calculator as calc\n",
    "def hypotenuse(a,b):\n",
    "    C = calc.sqrt(calc.sum(calc.product(a,a), calc.product(b,b)))\n",
    "    return C\n",
    "hypotenuse(3,4)"
   ]
  },
  {
   "cell_type": "markdown",
   "metadata": {},
   "source": [
    "Problem 4"
   ]
  },
  {
   "cell_type": "code",
   "execution_count": 3,
   "metadata": {},
   "outputs": [
    {
     "name": "stdout",
     "output_type": "stream",
     "text": [
      "[[()], [(1,), (2,), (3,)], [(1, 2), (1, 3), (2, 3)], [(1, 2, 3)]]\n"
     ]
    },
    {
     "data": {
      "text/plain": [
       "[set(), {1}, {2}, {3}, {1, 2}, {1, 3}, {2, 3}, {1, 2, 3}]"
      ]
     },
     "execution_count": 3,
     "metadata": {},
     "output_type": "execute_result"
    }
   ],
   "source": [
    "from itertools import combinations, chain\n",
    "\n",
    "def power(A):\n",
    "    B = []\n",
    "    for i in range (len(A)+1):\n",
    "        B.append(list(combinations(A, i)))\n",
    "    C = list(chain(*B)) \n",
    "    D = []\n",
    "    for i in range(len(C)):\n",
    "        D.append(set(C[i]))    \n",
    "    return D\n",
    "\n",
    "power({1,2,3})"
   ]
  },
  {
   "cell_type": "markdown",
   "metadata": {},
   "source": [
    "Problem 5"
   ]
  },
  {
   "cell_type": "markdown",
   "metadata": {},
   "source": [
    "See shut_the_box.py"
   ]
  },
  {
   "cell_type": "markdown",
   "metadata": {},
   "source": [
    "# Unit Testing Problem Set"
   ]
  },
  {
   "cell_type": "markdown",
   "metadata": {},
   "source": [
    "Problem 1"
   ]
  },
  {
   "cell_type": "markdown",
   "metadata": {},
   "source": [
    "There is a file called prob1.py in the folder. This contains the original program. The file test_prob1.py in the same folder contains the test, which checks for perfect squares. The test fails for perfect squares. The corrected function is:"
   ]
  },
  {
   "cell_type": "code",
   "execution_count": 1,
   "metadata": {},
   "outputs": [],
   "source": [
    "def smallest_factor(n):\n",
    "    if n==1: return 1\n",
    "    for i in range(2, int(n**0.5)+1):\n",
    "        if n % i == 0: return i\n",
    "    return n\n",
    "\n"
   ]
  },
  {
   "cell_type": "markdown",
   "metadata": {},
   "source": [
    "Also See prob1.py and test_prob1.py"
   ]
  },
  {
   "cell_type": "markdown",
   "metadata": {},
   "source": [
    "Problem 2"
   ]
  },
  {
   "cell_type": "markdown",
   "metadata": {},
   "source": [
    "The unit test for Problem 1 in the file test_prob1.py is-\n"
   ]
  },
  {
   "cell_type": "code",
   "execution_count": 1,
   "metadata": {},
   "outputs": [],
   "source": [
    "import prob1\n",
    "\n",
    "def test_prob1():\n",
    "    assert prob1.smallest_factor(25) == 5, \"Failed on perfect squares\"\n"
   ]
  },
  {
   "cell_type": "markdown",
   "metadata": {},
   "source": [
    "This has 100% coverage."
   ]
  },
  {
   "cell_type": "markdown",
   "metadata": {},
   "source": [
    "The comprehensive unit test for the function returning the number of months is- "
   ]
  },
  {
   "cell_type": "code",
   "execution_count": 3,
   "metadata": {},
   "outputs": [],
   "source": [
    "import prob2\n",
    "\n",
    "def test_prob2():\n",
    "    assert prob2.month_length(\"January\", False) == 31, \"Error in January in non-leap year\"\n",
    "    assert prob2.month_length(\"February\", False) == 28, \"Error in February in non-leap year\"\n",
    "    assert prob2.month_length(\"March\", False) == 31, \"Error in March in non-leap year\"\n",
    "    assert prob2.month_length(\"April\", False) == 30, \"Error in April in non-leap year\"\n",
    "    assert prob2.month_length(\"May\", False) == 31, \"Error in May in non-leap year\"\n",
    "    assert prob2.month_length(\"June\", False) == 30, \"Error in June in non-leap year\"\n",
    "    assert prob2.month_length(\"July\", False) == 31, \"Error in July in non-leap year\"\n",
    "    assert prob2.month_length(\"August\", False) == 31, \"Error in August in non-leap year\"\n",
    "    assert prob2.month_length(\"September\", False) == 30, \"Error in September in non-leap year\"\n",
    "    assert prob2.month_length(\"October\", False) == 31, \"Error in October in non-leap year\"\n",
    "    assert prob2.month_length(\"November\", False) == 30, \"Error in Novemberin non-leap year\"\n",
    "    assert prob2.month_length(\"December\", False) == 31, \"Error in December in non-leap year\"\n",
    "    assert prob2.month_length(\"February\", True) == 29, \"Error in February in leap year\"\n",
    "    assert prob2.month_length(\"XYZ\", True) == None, \"Error when no month is inputted\"\n"
   ]
  },
  {
   "cell_type": "markdown",
   "metadata": {},
   "source": [
    "This test achieves 100% coverage. \n",
    "Also see prob2.py and test_prob2.py \n"
   ]
  },
  {
   "cell_type": "markdown",
   "metadata": {},
   "source": [
    "Problem 3"
   ]
  },
  {
   "cell_type": "markdown",
   "metadata": {},
   "source": [
    "The code for the unit test is- "
   ]
  },
  {
   "cell_type": "code",
   "execution_count": 4,
   "metadata": {},
   "outputs": [],
   "source": [
    "import prob3\n",
    "import pytest\n",
    "\n",
    "def test_operate():\n",
    "    with pytest.raises(TypeError) as excinfo1:\n",
    "        prob3.operate(1,2,1)\n",
    "    assert excinfo1.value.args[0] == \"oper must be a string\"\n",
    "    assert prob3.operate(1,2,'+') == 3, \"addition error\"\n",
    "    assert prob3.operate(4,1, '-') == 3 , \"subtraction error\"\n",
    "    assert prob3.operate(3,2,'*') == 6, 'multiplication error'\n",
    "    assert prob3.operate(8,2,'/') == 4, 'division error'\n",
    "    with pytest.raises(ZeroDivisionError) as excinfo2:\n",
    "        prob3.operate(1,0,'/')\n",
    "    assert excinfo2.value.args[0] == \"division by zero is undefined\"\n",
    "    with pytest.raises(ValueError) as excinfo3:\n",
    "        prob3.operate(1,3,'(')\n",
    "    assert excinfo3.value.args[0] == \"oper must be one of '+', '/', '-', or '*'\"\n"
   ]
  },
  {
   "cell_type": "markdown",
   "metadata": {},
   "source": [
    "This test achieves 100% coverage. Also see prob3.py and test_prob3.py"
   ]
  },
  {
   "cell_type": "markdown",
   "metadata": {},
   "source": [
    "Problem 4"
   ]
  },
  {
   "cell_type": "markdown",
   "metadata": {},
   "source": [
    "The code for the Unit Test is-"
   ]
  },
  {
   "cell_type": "code",
   "execution_count": 1,
   "metadata": {},
   "outputs": [],
   "source": [
    "import prob4\n",
    "import pytest\n",
    "\n",
    "@pytest.fixture\n",
    "def set_up_fractions():\n",
    "    frac_1_3 = prob4.Fraction(1, 3)\n",
    "    frac_1_2 = prob4.Fraction(1, 2)\n",
    "    frac_n2_3 = prob4.Fraction(-2, 3)\n",
    "    frac_5_1 = prob4.Fraction(5,1)\n",
    "    frac_5_6 = prob4.Fraction(5,6)\n",
    "    return frac_1_3, frac_1_2, frac_n2_3, frac_5_1, frac_5_6\n",
    "\n",
    "\n",
    "def test_fraction_init(set_up_fractions):\n",
    "    frac_1_3, frac_1_2, frac_n2_3, frac_5_1, frac_5_6 = set_up_fractions\n",
    "    assert frac_1_3.numer == 1\n",
    "    assert frac_1_2.denom == 2\n",
    "    assert frac_n2_3.numer == -2\n",
    "    frac = prob4.Fraction(30, 42)\n",
    "    assert frac.numer == 5\n",
    "    assert frac.denom == 7\n",
    "\n",
    "    with pytest.raises(ZeroDivisionError) as excinfo1:\n",
    "        prob4.Fraction(5,0)\n",
    "    assert excinfo1.value.args[0] == \"denominator cannot be zero\"\n",
    "\n",
    "    with pytest.raises(TypeError) as excinfo2:\n",
    "        prob4.Fraction(1.3, 4.2)\n",
    "    assert excinfo2.value.args[0] == \"numerator and denominator must be integers\"\n",
    "\n",
    "\n",
    "def test_fraction_str(set_up_fractions):\n",
    "    frac_1_3, frac_1_2, frac_n2_3, frac_5_1, frac_5_6 = set_up_fractions\n",
    "    assert str(frac_1_3) == \"1/3\"\n",
    "    assert str(frac_1_2) == \"1/2\"\n",
    "    assert str(frac_n2_3) == \"-2/3\"\n",
    "    assert str(frac_5_1) == \"5\"\n",
    "\n",
    "\n",
    "def test_fraction_float(set_up_fractions):\n",
    "    frac_1_3, frac_1_2, frac_n2_3, frac_5_1, frac_5_6 = set_up_fractions\n",
    "    assert float(frac_1_3) == 1 / 3.\n",
    "    assert float(frac_1_2) == .5\n",
    "    assert float(frac_n2_3) == -2 / 3.\n",
    "\n",
    "\n",
    "def test_fraction_eq(set_up_fractions):\n",
    "    frac_1_3, frac_1_2, frac_n2_3, frac_5_1, frac_5_6 = set_up_fractions\n",
    "    assert frac_1_2 == prob4.Fraction(1, 2)\n",
    "    assert frac_1_3 == prob4.Fraction(2, 6)\n",
    "    assert frac_n2_3 == prob4.Fraction(8, -12)\n",
    "\n",
    "    assert float(frac_1_2) == frac_1_2\n",
    "\n",
    "def test_fraction_add(set_up_fractions):\n",
    "    frac_1_3, frac_1_2, frac_n2_3, frac_5_1, frac_5_6 = set_up_fractions\n",
    "    assert frac_1_2 + frac_1_3 == frac_5_6\n",
    "\n",
    "def test_fraction_sub(set_up_fractions):\n",
    "    frac_1_3, frac_1_2, frac_n2_3, frac_5_1, frac_5_6  = set_up_fractions\n",
    "    assert frac_5_6 - frac_1_2 == frac_1_3\n",
    "\n",
    "def test_fraction_mul(set_up_fractions):\n",
    "    frac_1_3, frac_1_2, frac_n2_3, frac_5_1, frac_5_6  = set_up_fractions\n",
    "    assert frac_1_3 * frac_1_2 == prob4.Fraction(1,6)\n",
    "\n",
    "def test_fraction_truediv(set_up_fractions):\n",
    "    frac_1_3, frac_1_2, frac_n2_3, frac_5_1, frac_5_6  = set_up_fractions\n",
    "    assert frac_1_3 / frac_1_2 == prob4.Fraction(2,3)\n",
    "\n",
    "    with pytest.raises(ZeroDivisionError) as excinfo3:\n",
    "        frac_5_1 / prob4.Fraction(0,5)\n",
    "    assert excinfo3\n"
   ]
  },
  {
   "cell_type": "markdown",
   "metadata": {},
   "source": [
    "This test achieves 100% coverage. There is error in the addition and subtraction operations which has been corrected. Also see prob4.py and test_prob4.py"
   ]
  },
  {
   "cell_type": "markdown",
   "metadata": {},
   "source": [
    "See prob5.py and test_prob5.py"
   ]
  },
  {
   "cell_type": "markdown",
   "metadata": {},
   "source": [
    "# Object Oriented Programming Problem Set"
   ]
  },
  {
   "cell_type": "markdown",
   "metadata": {},
   "source": [
    "Problem 1"
   ]
  },
  {
   "cell_type": "markdown",
   "metadata": {},
   "source": [
    "The code for the backpack class is "
   ]
  },
  {
   "cell_type": "code",
   "execution_count": 1,
   "metadata": {},
   "outputs": [],
   "source": [
    "class Backpack:\n",
    "    '''A backpack object class. Has name and color'''\n",
    "\n",
    "    def __init__(self, name, color, max_size=5):\n",
    "\n",
    "        '''Set the name and color and initiate an empty list of contents'''\n",
    "        '''Parameters- name (string), color(string)'''\n",
    "        self.name = name\n",
    "        self.color = color\n",
    "        self.max_size = max_size\n",
    "        self.contents = []\n",
    "\n",
    "    def put(self, item):\n",
    "\n",
    "        '''Append items till backpack items are lesser than maximum size'''\n",
    "\n",
    "        if len(self.contents) < self.max_size:\n",
    "            return self.contents.append(item)\n",
    "        else: print(\"No more room!\")\n",
    "\n",
    "    def dump(self):\n",
    "        '''wipe out all contents of backpack'''\n",
    "        self.contents = []\n"
   ]
  },
  {
   "cell_type": "markdown",
   "metadata": {},
   "source": [
    "To test the backpack class, we can write the following function-"
   ]
  },
  {
   "cell_type": "code",
   "execution_count": 2,
   "metadata": {},
   "outputs": [
    {
     "name": "stdout",
     "output_type": "stream",
     "text": [
      "No more room!\n",
      "contents:  ['pencil', 'pen', 'paper', 'computer', 'earphones']\n",
      "contents after dump:  []\n"
     ]
    }
   ],
   "source": [
    "def test_backpack():\n",
    "    testpack = Backpack(\"Barry\", \"black\")\n",
    "    if testpack.name != \"Barry\":\n",
    "        print(\"Backpack.name assigned incorrectly\")\n",
    "    for item in [\"pencil\", \"pen\", \"paper\", \"computer\", \"earphones\", \"charger\"]:\n",
    "        testpack.put(item)\n",
    "    print(\"contents: \", testpack.contents)\n",
    "    testpack.dump()\n",
    "    print(\"contents after dump: \", testpack.contents)\n",
    "\n",
    "test_backpack()\n"
   ]
  },
  {
   "cell_type": "markdown",
   "metadata": {},
   "source": [
    "Problem 2"
   ]
  },
  {
   "cell_type": "code",
   "execution_count": 3,
   "metadata": {},
   "outputs": [],
   "source": [
    "class Jetpack(Backpack):\n",
    "    def __init__(self, name, color, max_size =2, fuel=10):\n",
    "        Backpack.__init__(self, name, color, max_size)\n",
    "        self.fuel = fuel\n",
    "        self.maxsize= max_size\n",
    "    \n",
    "    def fly(self, fuel):\n",
    "        if self.fuel >= fuel:\n",
    "            self.fuel = self.fuel - fuel\n",
    "        else: print(\"Not enough fuel!\")\n",
    "            \n",
    "    def dump(self):\n",
    "        self.contents = []\n",
    "        self.fuel = 0\n",
    "    "
   ]
  },
  {
   "cell_type": "code",
   "execution_count": 4,
   "metadata": {},
   "outputs": [
    {
     "name": "stdout",
     "output_type": "stream",
     "text": [
      "No more room!\n",
      "Jetpack contents:  ['pencil', 'pen']\n",
      "Fuel remaining:  3\n",
      "Contents and fuel after dump:  [] 0\n"
     ]
    }
   ],
   "source": [
    "def test_Jetpack():\n",
    "    my_jetpack = Jetpack(\"Keshav\", \"Black\")\n",
    "    for item in [\"pencil\", \"pen\", \"charger\"]:\n",
    "        my_jetpack.put(item)\n",
    "    my_jetpack.fly(7)\n",
    "    print(\"Jetpack contents: \", my_jetpack.contents)\n",
    "    print(\"Fuel remaining: \", my_jetpack.fuel)\n",
    "    my_jetpack.dump()\n",
    "    print(\"Contents and fuel after dump: \", my_jetpack.contents, my_jetpack.fuel)\n",
    "    \n",
    "test_Jetpack()"
   ]
  },
  {
   "cell_type": "markdown",
   "metadata": {},
   "source": [
    "Problem 3"
   ]
  },
  {
   "cell_type": "code",
   "execution_count": 5,
   "metadata": {},
   "outputs": [],
   "source": [
    "class Backpack:\n",
    "    '''A backpack object class. Has name and color'''\n",
    "\n",
    "    def __init__(self, name, color, max_size=5):\n",
    "\n",
    "        '''Set the name and color and initiate an empty list of contents'''\n",
    "        '''Parameters- name (string), color(string)'''\n",
    "        self.name = name\n",
    "        self.color = color\n",
    "        self.max_size = max_size\n",
    "        self.contents = []\n",
    "\n",
    "    def put(self, item):\n",
    "\n",
    "        '''Append items till backpack items are lesser than maximum size'''\n",
    "\n",
    "        if len(self.contents) < self.max_size:\n",
    "            return self.contents.append(item)\n",
    "        else: print(\"No more room!\")\n",
    "\n",
    "    def dump(self):\n",
    "        '''wipe out all contents of backpack'''\n",
    "        self.contents = []\n",
    "        \n",
    "    def __eq__(self, other):\n",
    "        return (self.name == other.name) and (len(self.contents) == len(other.contents)) and (self.color == other.color)\n",
    "    \n",
    "    def __str__(self):\n",
    "        dstring = ('Owner:\\t \\t' + str(self.name) + '\\nColor: \\t \\t' + str(self.color) + '\\nSize: \\t \\t' +  str(len(self.contents))\n",
    "                   + '\\nMax Size:\\t' + str(self.max_size) + '\\nContents: \\t' + str(self.contents))\n",
    "        return dstring"
   ]
  },
  {
   "cell_type": "code",
   "execution_count": 6,
   "metadata": {},
   "outputs": [
    {
     "name": "stdout",
     "output_type": "stream",
     "text": [
      "Owner:\t \tMary\n",
      "Color: \t \tMagenta\n",
      "Size: \t \t1\n",
      "Max Size:\t5\n",
      "Contents: \t['pens']\n"
     ]
    }
   ],
   "source": [
    "pack1 = Backpack(\"Mary\", \"Magenta\")\n",
    "pack1.put(\"pens\")\n",
    "print(pack1)"
   ]
  },
  {
   "cell_type": "markdown",
   "metadata": {},
   "source": [
    "Problem 4"
   ]
  },
  {
   "cell_type": "code",
   "execution_count": 193,
   "metadata": {},
   "outputs": [],
   "source": [
    "class ComplexNumber:\n",
    "    def __init__(self, real, imag):\n",
    "        self.real = real\n",
    "        self.imag = imag\n",
    "    \n",
    "    def conjugate(self):\n",
    "        return ComplexNumber(self.real, -self.imag)\n",
    "    \n",
    "    def __str__(self):\n",
    "        if self.imag >= 0:\n",
    "            dstring = \"(\"+str(self.real) + \"+\" + str(self.imag)+ \"j)\"\n",
    "        else: dstring = str(self.real) + \"-\" + str(abs(self.imag)) + \"j\"\n",
    "        return dstring\n",
    "    \n",
    "    def __abs__(self):\n",
    "        return ((self.real**2)+ (self.imag**2))**0.5\n",
    "    \n",
    "    def __eq__(self, other):\n",
    "        return (self.real==other.real) and (self.imag==other.imag)\n",
    "    \n",
    "    def __add__(self, other):\n",
    "        a = self.real + other.real\n",
    "        b = self.imag + other.imag\n",
    "        return ComplexNumber(a,b)\n",
    "    \n",
    "    def __sub__(self, other):\n",
    "        a = self.real - other.real\n",
    "        b = self.imag - other.imag\n",
    "        return ComplexNumber(a,b)\n",
    "    \n",
    "    def __mul__(self, other):\n",
    "        a = self.real * other.real - self.imag * other.imag\n",
    "        b = self.real *  other.imag + other.real * self.imag\n",
    "        return ComplexNumber(a,b)\n",
    "    \n",
    "    def __truediv__(self, other):\n",
    "        if other.real == 0 and other.imag ==0:\n",
    "            return \"division by 0 not allowed\"\n",
    "        else:\n",
    "            z= other.real**2 + other.imag**2\n",
    "            a = self.real * other.real + self.imag * other.imag\n",
    "            b = self.imag * other.real - self.real * other.imag\n",
    "            return ComplexNumber(a/z,b/z)\n",
    "    \n",
    "    \n",
    "        \n",
    "        \n",
    "        \n",
    "        \n",
    "    \n",
    "    "
   ]
  },
  {
   "cell_type": "code",
   "execution_count": 194,
   "metadata": {},
   "outputs": [
    {
     "name": "stdout",
     "output_type": "stream",
     "text": [
      "(6+9j)\n",
      "(-9+17j)\n",
      "3.8-0.6j\n"
     ]
    }
   ],
   "source": [
    "def test_ComplexNumber(a, b):\n",
    "    py_cnum, my_cnum = complex(a, b), ComplexNumber(a, b)\n",
    "    \n",
    "    # Validate the constructor.\n",
    "    if my_cnum.real != a or my_cnum.imag != b:\n",
    "        print(\"__init__() set self.real and self.imag incorrectly\")\n",
    "    \n",
    "    # Validate conjugate() by checking the new number's imag attribute.\n",
    "    if py_cnum.conjugate().imag != my_cnum.conjugate().imag:\n",
    "        print(\"conjugate() failed for\", py_cnum)\n",
    "    \n",
    "    # Validate __str__().\n",
    "    if str(py_cnum) != str(my_cnum):\n",
    "        print(py_cnum)\n",
    "        print(my_cnum)\n",
    "        print(\"__str__() failed for\", py_cnum)\n",
    "        \n",
    "    test = ComplexNumber(5, 7)\n",
    "    print(test + my_cnum)\n",
    "    print(test * my_cnum)\n",
    "    print(test / my_cnum)\n",
    "        \n",
    "test_ComplexNumber(1, 2)"
   ]
  },
  {
   "cell_type": "markdown",
   "metadata": {},
   "source": [
    "# Exceptions and File Input/Output"
   ]
  },
  {
   "cell_type": "markdown",
   "metadata": {},
   "source": [
    "Problem 1"
   ]
  },
  {
   "cell_type": "code",
   "execution_count": 195,
   "metadata": {},
   "outputs": [
    {
     "name": "stdout",
     "output_type": "stream",
     "text": [
      "Enter a 3-digit number where the first and last digits differ by 2 or more: 123\n",
      "Enter the reverse of the first number, obtained by reading it backwards: 321\n",
      "Enter the positive difference of these numbers: 198\n",
      "Enter the reverse of the previous result: 891\n",
      "198 + 891 = 1089 (ta-da!)\n"
     ]
    }
   ],
   "source": [
    "def arithmagic():\n",
    "    step_1 = input(\"Enter a 3-digit number where the first and last \"\n",
    "                                       \"digits differ by 2 or more: \")\n",
    "    try:\n",
    "        value = int(step_1)\n",
    "    except ValueError:\n",
    "        print(\"You did not enter an integer.\")\n",
    "        \n",
    "    if len(step_1) != 3:\n",
    "        raise ValueError(\"You did not enter a 3-digit integer.\")\n",
    "    \n",
    "    if abs(int(step_1[0]) - int(step_1[2])) < 2:\n",
    "        raise ValueError(\"The first number's first and last digits differ by less than 2\") \n",
    "          \n",
    "    step_2 = input(\"Enter the reverse of the first number, obtained \"\n",
    "                                          \"by reading it backwards: \")\n",
    "    \n",
    "    reverseString = step_1[::-1]\n",
    "    if step_2 != reverseString:\n",
    "        raise ValueError(\"You did not reverse the first number.\")\n",
    "        \n",
    "    step_3 = input(\"Enter the positive difference of these numbers: \")\n",
    "    \n",
    "    try:\n",
    "        value = int(step_3)\n",
    "    except ValueError:\n",
    "        print(\"You did not enter an integer.\")\n",
    "        \n",
    "    posDiff = abs(int(step_1) - int(reverseString))\n",
    "    if int(step_3) != posDiff:\n",
    "        raise ValueError(\"You did not enter the positive difference of these numbers\")\n",
    "        \n",
    "    step_4 = input(\"Enter the reverse of the previous result: \")\n",
    "    \n",
    "    reverseString2 = step_3[::-1]\n",
    "    if step_4 != reverseString2:\n",
    "        raise ValueError(\"You did not reverse the third number.\")\n",
    "\n",
    "    print(str(step_3), \"+\", str(step_4), \"= 1089 (ta-da!)\")\n",
    "    \n",
    "arithmagic()"
   ]
  },
  {
   "cell_type": "markdown",
   "metadata": {},
   "source": [
    "Problem 2"
   ]
  },
  {
   "cell_type": "code",
   "execution_count": null,
   "metadata": {},
   "outputs": [],
   "source": [
    "from random import choice\n",
    "\n",
    "def random_walk(max_iters=1e12):\n",
    "    walk = 0\n",
    "    directions = [1, -1]\n",
    "    \n",
    "    try:\n",
    "        for ind, ii in enumerate(range(int(max_iters))):\n",
    "            walk += choice(directions)\n",
    "    except KeyboardInterrupt:\n",
    "        print(\"Process interrupted at iteration\", ind)\n",
    "    else:\n",
    "        print(\"Process completed.\")\n",
    "    finally:   \n",
    "        print(\"Value of the walk was: \", walk)\n",
    "        return walk\n",
    "\n",
    "random_walk()"
   ]
  }
 ],
 "metadata": {
  "kernelspec": {
   "display_name": "Python 3",
   "language": "python",
   "name": "python3"
  },
  "language_info": {
   "codemirror_mode": {
    "name": "ipython",
    "version": 3
   },
   "file_extension": ".py",
   "mimetype": "text/x-python",
   "name": "python",
   "nbconvert_exporter": "python",
   "pygments_lexer": "ipython3",
   "version": "3.6.5"
  }
 },
 "nbformat": 4,
 "nbformat_minor": 2
}
