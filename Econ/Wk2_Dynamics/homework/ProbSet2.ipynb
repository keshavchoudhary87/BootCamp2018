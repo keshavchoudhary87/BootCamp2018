{
 "cells": [
  {
   "cell_type": "markdown",
   "metadata": {},
   "source": [
    "# Dynamics Problem Set No.1"
   ]
  },
  {
   "cell_type": "markdown",
   "metadata": {},
   "source": [
    "Problem 1"
   ]
  },
  {
   "cell_type": "code",
   "execution_count": 42,
   "metadata": {},
   "outputs": [
    {
     "data": {
      "text/plain": [
       "1.200420037306138e-05"
      ]
     },
     "execution_count": 42,
     "metadata": {},
     "output_type": "execute_result"
    }
   ],
   "source": [
    "import numpy as np\n",
    "from scipy import linalg\n",
    "with open('matrix_data.txt') as file:\n",
    "    array2d = np.array([[float(digit) for digit in line.split()] for line in file])\n",
    "lambdas = linalg.eig(array2d, b=None, left=False, right=False)\n",
    "spectralradius = max(abs(lambdas))\n",
    "\n",
    "i_max = 100000\n",
    "\n",
    "def spectral_theorem(i):\n",
    "    product = np.linalg.matrix_power(array2d,i)\n",
    "    nu = np.ones(10)\n",
    "    vector = product @ nu\n",
    "    normvector = linalg.norm(vector, ord = 2)\n",
    "    converge = normvector**(1/i)\n",
    "    difference = converge - spectralradius\n",
    "    return difference\n",
    "       \n",
    "sequence = []\n",
    "\n",
    "for iter in range(1,i_max+1):\n",
    "    sequence.append(spectral_theorem(iter))\n",
    "    \n",
    "sequence[-1]\n",
    "    "
   ]
  },
  {
   "cell_type": "markdown",
   "metadata": {},
   "source": [
    "Problem 2"
   ]
  },
  {
   "cell_type": "code",
   "execution_count": 78,
   "metadata": {},
   "outputs": [
    {
     "data": {
      "image/png": "[encoded data removed]",
      "text/plain": [
       "<Figure size 432x288 with 100 Axes>"
      ]
     },
     "metadata": {},
     "output_type": "display_data"
    }
   ],
   "source": [
    "import numpy as np\n",
    "import matplotlib\n",
    "from matplotlib import pyplot as plt\n",
    "\n",
    "timeseries_size=10000\n",
    "\n",
    "def gx(x):\n",
    "    gx = 4 * x * (1 - x)\n",
    "    return gx\n",
    "\n",
    "def timeseries(x):\n",
    "    A = np.array(x)\n",
    "    A = np.append(A, gx(x))\n",
    "    iter = 1\n",
    "    while iter < timeseries_size:\n",
    "        A = np.append(A, gx(A[-1]))\n",
    "        iter += 1\n",
    "    return A\n",
    "\n",
    "def initial_conditions():\n",
    "    initial_conditions = np.empty(100)\n",
    "    for i in range(100):\n",
    "        initial_conditions[i] = np.random.uniform(0,1,1)\n",
    "    return initial_conditions\n",
    "    \n",
    "\n",
    "init = initial_conditions()\n",
    "fig, ax = plt.subplots(10,10)\n",
    "for i in range(10):\n",
    "    for j in range(10):\n",
    "        ax[i,j].hist(timeseries(init[i+j]), bins = 100, )\n",
    "        \n",
    "fig.savefig('plot.pdf')"
   ]
  },
  {
   "cell_type": "markdown",
   "metadata": {},
   "source": [
    "Problem 3"
   ]
  },
  {
   "cell_type": "code",
   "execution_count": null,
   "metadata": {},
   "outputs": [],
   "source": []
  }
 ],
 "metadata": {
  "kernelspec": {
   "display_name": "Python 3",
   "language": "python",
   "name": "python3"
  },
  "language_info": {
   "codemirror_mode": {
    "name": "ipython",
    "version": 3
   },
   "file_extension": ".py",
   "mimetype": "text/x-python",
   "name": "python",
   "nbconvert_exporter": "python",
   "pygments_lexer": "ipython3",
   "version": "3.6.5"
  }
 },
 "nbformat": 4,
 "nbformat_minor": 2
}
